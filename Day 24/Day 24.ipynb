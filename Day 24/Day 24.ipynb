{
 "cells": [
  {
   "cell_type": "code",
   "execution_count": 29,
   "id": "031ed16c-5a7b-455e-b286-18d344d51b1a",
   "metadata": {},
   "outputs": [],
   "source": [
    "import pandas as pd\n",
    "import geopandas as gpd"
   ]
  },
  {
   "cell_type": "code",
   "execution_count": 7,
   "id": "e958cc27-474f-4de9-bd75-01187b061df1",
   "metadata": {},
   "outputs": [],
   "source": [
    "#read files\n",
    "energy = pd.read_csv(\"electricity-renewables.csv\")\n",
    "solar = pd.read_csv(\"solar-energy-consumption.csv\")\n",
    "wind = pd.read_csv(\"wind-generation.csv\")\n",
    "hydropower = pd.read_csv(\"hydropower-consumption.csv\")"
   ]
  },
  {
   "cell_type": "code",
   "execution_count": 9,
   "id": "333b174e-c21b-4f8a-8680-16119b250386",
   "metadata": {},
   "outputs": [],
   "source": [
    "#filter for 2023\n",
    "energy2023 = energy[energy[\"Year\"] == 2023]\n",
    "solar2023 = solar[solar[\"Year\"] == 2023]\n",
    "wind2023 = wind[wind[\"Year\"] == 2023]\n",
    "hydropower2023 = hydropower[hydropower[\"Year\"] == 2023]"
   ]
  },
  {
   "cell_type": "code",
   "execution_count": 19,
   "id": "5a577f6c-d2f7-4639-8382-d3a3c30a7b36",
   "metadata": {},
   "outputs": [],
   "source": [
    "#filter necessary columns from each dataset\n",
    "solar_filtered = solar2023[['Entity', 'Electricity from solar - TWh']]\n",
    "hydro_filtered = hydropower2023[['Entity', 'Electricity from hydro - TWh']]\n",
    "wind_filtered = wind2023[['Entity', 'Electricity from wind - TWh']]\n",
    "\n",
    "#merge energy2023 with solar, hydro, and wind datasets\n",
    "energy2023_complete = (\n",
    "    energy2023\n",
    "    .merge(solar_filtered, on='Entity', how='inner')\n",
    "    .merge(hydro_filtered, on='Entity', how='inner')\n",
    "    .merge(wind_filtered, on='Entity', how='inner')\n",
    ")"
   ]
  },
  {
   "cell_type": "code",
   "execution_count": 23,
   "id": "327b4f73-a042-4c61-a9c5-3d394855b738",
   "metadata": {},
   "outputs": [],
   "source": [
    "#calculate energy for others\n",
    "energy2023_complete[\"Electricity from others - TWh\"] = (\n",
    "    energy2023_complete[\"Electricity from renewables - TWh\"] \n",
    "    - energy2023_complete[\"Electricity from solar - TWh\"] \n",
    "    - energy2023_complete[\"Electricity from hydro - TWh\"] \n",
    "    - energy2023_complete[\"Electricity from wind - TWh\"]\n",
    ")"
   ]
  },
  {
   "cell_type": "code",
   "execution_count": 25,
   "id": "16f6997b-c570-4ce9-9ba1-35e331c1f6a6",
   "metadata": {},
   "outputs": [],
   "source": [
    "#calculate the percentage contribution for each energy source\n",
    "energy2023_complete[\"% from solar\"] = (\n",
    "    energy2023_complete[\"Electricity from solar - TWh\"] \n",
    "    / energy2023_complete[\"Electricity from renewables - TWh\"]\n",
    ") * 100\n",
    "\n",
    "energy2023_complete[\"% from hydro\"] = (\n",
    "    energy2023_complete[\"Electricity from hydro - TWh\"] \n",
    "    / energy2023_complete[\"Electricity from renewables - TWh\"]\n",
    ") * 100\n",
    "\n",
    "energy2023_complete[\"% from wind\"] = (\n",
    "    energy2023_complete[\"Electricity from wind - TWh\"] \n",
    "    / energy2023_complete[\"Electricity from renewables - TWh\"]\n",
    ") * 100\n",
    "\n",
    "energy2023_complete[\"% from others\"] = (\n",
    "    energy2023_complete[\"Electricity from others - TWh\"] \n",
    "    / energy2023_complete[\"Electricity from renewables - TWh\"]\n",
    ") * 100"
   ]
  },
  {
   "cell_type": "code",
   "execution_count": 27,
   "id": "1d78c84a-288c-4475-9526-7bdc295adc56",
   "metadata": {},
   "outputs": [
    {
     "data": {
      "text/html": [
       "<div>\n",
       "<style scoped>\n",
       "    .dataframe tbody tr th:only-of-type {\n",
       "        vertical-align: middle;\n",
       "    }\n",
       "\n",
       "    .dataframe tbody tr th {\n",
       "        vertical-align: top;\n",
       "    }\n",
       "\n",
       "    .dataframe thead th {\n",
       "        text-align: right;\n",
       "    }\n",
       "</style>\n",
       "<table border=\"1\" class=\"dataframe\">\n",
       "  <thead>\n",
       "    <tr style=\"text-align: right;\">\n",
       "      <th></th>\n",
       "      <th>Entity</th>\n",
       "      <th>Code</th>\n",
       "      <th>Year</th>\n",
       "      <th>Electricity from renewables - TWh</th>\n",
       "      <th>Electricity from solar - TWh</th>\n",
       "      <th>Electricity from hydro - TWh</th>\n",
       "      <th>Electricity from wind - TWh</th>\n",
       "      <th>Electricity from others - TWh</th>\n",
       "      <th>% from solar</th>\n",
       "      <th>% from hydro</th>\n",
       "      <th>% from wind</th>\n",
       "      <th>% from others</th>\n",
       "    </tr>\n",
       "  </thead>\n",
       "  <tbody>\n",
       "    <tr>\n",
       "      <th>0</th>\n",
       "      <td>ASEAN (Ember)</td>\n",
       "      <td>NaN</td>\n",
       "      <td>2023</td>\n",
       "      <td>316.21000</td>\n",
       "      <td>38.510000</td>\n",
       "      <td>192.33000</td>\n",
       "      <td>16.11000</td>\n",
       "      <td>6.926000e+01</td>\n",
       "      <td>12.178615</td>\n",
       "      <td>60.823503</td>\n",
       "      <td>5.094716</td>\n",
       "      <td>21.903166</td>\n",
       "    </tr>\n",
       "    <tr>\n",
       "      <th>1</th>\n",
       "      <td>Africa (EI)</td>\n",
       "      <td>NaN</td>\n",
       "      <td>2023</td>\n",
       "      <td>218.36761</td>\n",
       "      <td>19.197226</td>\n",
       "      <td>161.64522</td>\n",
       "      <td>27.82143</td>\n",
       "      <td>9.703734e+00</td>\n",
       "      <td>8.791242</td>\n",
       "      <td>74.024357</td>\n",
       "      <td>12.740640</td>\n",
       "      <td>4.443761</td>\n",
       "    </tr>\n",
       "    <tr>\n",
       "      <th>2</th>\n",
       "      <td>Africa (Ember)</td>\n",
       "      <td>NaN</td>\n",
       "      <td>2023</td>\n",
       "      <td>213.96000</td>\n",
       "      <td>27.140000</td>\n",
       "      <td>150.80000</td>\n",
       "      <td>26.99000</td>\n",
       "      <td>9.030000e+00</td>\n",
       "      <td>12.684614</td>\n",
       "      <td>70.480464</td>\n",
       "      <td>12.614507</td>\n",
       "      <td>4.220415</td>\n",
       "    </tr>\n",
       "    <tr>\n",
       "      <th>3</th>\n",
       "      <td>Algeria</td>\n",
       "      <td>DZA</td>\n",
       "      <td>2023</td>\n",
       "      <td>0.73378</td>\n",
       "      <td>0.649000</td>\n",
       "      <td>0.06878</td>\n",
       "      <td>0.01600</td>\n",
       "      <td>-3.000000e-08</td>\n",
       "      <td>88.446132</td>\n",
       "      <td>9.373382</td>\n",
       "      <td>2.180490</td>\n",
       "      <td>-0.000004</td>\n",
       "    </tr>\n",
       "    <tr>\n",
       "      <th>4</th>\n",
       "      <td>Argentina</td>\n",
       "      <td>ARG</td>\n",
       "      <td>2023</td>\n",
       "      <td>53.24000</td>\n",
       "      <td>3.250000</td>\n",
       "      <td>33.17000</td>\n",
       "      <td>14.49000</td>\n",
       "      <td>2.330000e+00</td>\n",
       "      <td>6.104433</td>\n",
       "      <td>62.302780</td>\n",
       "      <td>27.216379</td>\n",
       "      <td>4.376409</td>\n",
       "    </tr>\n",
       "  </tbody>\n",
       "</table>\n",
       "</div>"
      ],
      "text/plain": [
       "           Entity Code  Year  Electricity from renewables - TWh  \\\n",
       "0   ASEAN (Ember)  NaN  2023                          316.21000   \n",
       "1     Africa (EI)  NaN  2023                          218.36761   \n",
       "2  Africa (Ember)  NaN  2023                          213.96000   \n",
       "3         Algeria  DZA  2023                            0.73378   \n",
       "4       Argentina  ARG  2023                           53.24000   \n",
       "\n",
       "   Electricity from solar - TWh  Electricity from hydro - TWh  \\\n",
       "0                     38.510000                     192.33000   \n",
       "1                     19.197226                     161.64522   \n",
       "2                     27.140000                     150.80000   \n",
       "3                      0.649000                       0.06878   \n",
       "4                      3.250000                      33.17000   \n",
       "\n",
       "   Electricity from wind - TWh  Electricity from others - TWh  % from solar  \\\n",
       "0                     16.11000                   6.926000e+01     12.178615   \n",
       "1                     27.82143                   9.703734e+00      8.791242   \n",
       "2                     26.99000                   9.030000e+00     12.684614   \n",
       "3                      0.01600                  -3.000000e-08     88.446132   \n",
       "4                     14.49000                   2.330000e+00      6.104433   \n",
       "\n",
       "   % from hydro  % from wind  % from others  \n",
       "0     60.823503     5.094716      21.903166  \n",
       "1     74.024357    12.740640       4.443761  \n",
       "2     70.480464    12.614507       4.220415  \n",
       "3      9.373382     2.180490      -0.000004  \n",
       "4     62.302780    27.216379       4.376409  "
      ]
     },
     "execution_count": 27,
     "metadata": {},
     "output_type": "execute_result"
    }
   ],
   "source": [
    "energy2023_complete.head()"
   ]
  },
  {
   "cell_type": "code",
   "execution_count": 59,
   "id": "1daa1bd4-6128-4843-aa83-a47d2a5653fc",
   "metadata": {},
   "outputs": [],
   "source": [
    "#save the csv\n",
    "energy2023_complete.to_csv(\"energy2023_complete.csv\")"
   ]
  },
  {
   "cell_type": "code",
   "execution_count": 31,
   "id": "8cfd2a28-63c8-43cf-aa65-4ed386d8017e",
   "metadata": {},
   "outputs": [],
   "source": [
    "#read in the shapefile\n",
    "worldmap = gpd.read_file(\"WB_countries_Admin0_10m.shp\")"
   ]
  },
  {
   "cell_type": "code",
   "execution_count": 65,
   "id": "1598816e-a2d1-470e-ab02-ea69924d1698",
   "metadata": {},
   "outputs": [],
   "source": [
    "#perform the join based on ISO_A3 and Code\n",
    "world_energy = worldmap.merge(energy2023_complete, \n",
    "                                left_on=\"ISO_A3\", \n",
    "                                right_on=\"Code\", \n",
    "                                how=\"left\")"
   ]
  },
  {
   "cell_type": "code",
   "execution_count": 67,
   "id": "9120228a-2151-4579-811d-6fc0c60a8be5",
   "metadata": {},
   "outputs": [],
   "source": [
    "#filter for South America\n",
    "world_energy_south_america = world_energy[world_energy[\"CONTINENT\"] == \"South America\"]"
   ]
  },
  {
   "cell_type": "code",
   "execution_count": 71,
   "id": "ac439fc7-50c6-4fb2-a5e4-518d21fe9b0a",
   "metadata": {},
   "outputs": [],
   "source": [
    "#save the filtered data as a GeoPackage\n",
    "world_energy_south_america.to_file(\"world_energy_south_america.gpkg\", driver=\"GPKG\")"
   ]
  }
 ],
 "metadata": {
  "kernelspec": {
   "display_name": "Python 3 (ipykernel)",
   "language": "python",
   "name": "python3"
  },
  "language_info": {
   "codemirror_mode": {
    "name": "ipython",
    "version": 3
   },
   "file_extension": ".py",
   "mimetype": "text/x-python",
   "name": "python",
   "nbconvert_exporter": "python",
   "pygments_lexer": "ipython3",
   "version": "3.12.3"
  }
 },
 "nbformat": 4,
 "nbformat_minor": 5
}
