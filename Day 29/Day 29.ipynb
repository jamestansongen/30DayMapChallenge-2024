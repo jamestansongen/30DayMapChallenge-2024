{
 "cells": [
  {
   "cell_type": "markdown",
   "id": "13a1656f-4c85-41dd-be96-79fd11751926",
   "metadata": {},
   "source": [
    "**Tutorial Source 1:** https://ibis-project.org/posts/ibis-overturemaps/"
   ]
  },
  {
   "cell_type": "markdown",
   "id": "38306a85-d095-4669-b187-8b2237545ff6",
   "metadata": {},
   "source": [
    "**Installation**"
   ]
  },
  {
   "cell_type": "code",
   "execution_count": 20,
   "id": "a21d8abf-2370-48e1-8039-879fe66d1e0e",
   "metadata": {},
   "outputs": [],
   "source": [
    "#!pip install duckdb>=1.1.1\n",
    "#!pip install ibis-framework[duckdb,geospatial]\n",
    "#!pip install lonboard\n",
    "#!pip install ipywidgets #if widgets do not display such as progress bar"
   ]
  },
  {
   "cell_type": "markdown",
   "id": "1992e595-999b-461d-9624-5a56867e2dd8",
   "metadata": {},
   "source": [
    "**Download Data**"
   ]
  },
  {
   "cell_type": "code",
   "execution_count": 22,
   "id": "d4ac80a1-1fff-4ed7-b7ea-980e56203220",
   "metadata": {},
   "outputs": [],
   "source": [
    "import ibis #for analytical queries\n",
    "from ibis import _ #_ refers to deferred expression which can be executed later (e.g. execute())\n",
    "\n",
    "con = ibis.get_backend() # default duckdb backend which is fast and lightweight (but others include PostgreSQL, BigQuery)"
   ]
  },
  {
   "cell_type": "code",
   "execution_count": 23,
   "id": "3cc7011b-e2ac-43e6-94a1-0fc3cec4bb58",
   "metadata": {},
   "outputs": [],
   "source": [
    "#theme = base (others include addresses, buildings, divisions, places and transportation)\n",
    "#https://docs.overturemaps.org/guides/\n",
    "#type = infrastructure (others include land, land_cover, land_use and water)\n",
    "#https://docs.overturemaps.org/guides/base/\n",
    "#* is a wildcard used to include all files within the directory (type = infrastructure)\n",
    "url = (\n",
    "    \"s3://overturemaps-us-west-2/release/2024-11-13.0/theme=base/type=infrastructure/*\"\n",
    ")\n",
    "\n",
    "#con refers to connection to the DuckDB backend using Ibis\n",
    "#table-name is used to assign the name to the table created\n",
    "t = con.read_parquet(url, table_name=\"infra-usa\") \n",
    "\n",
    "#filter for USA bounding box, subtype=\"power\", and selecting only few columns\n",
    "expr = t.filter(\n",
    "    _.bbox.xmin > -125.0,\n",
    "    _.bbox.ymin > 24.8,\n",
    "    _.bbox.xmax < -65.8,\n",
    "    _.bbox.ymax < 49.2,\n",
    "    _.subtype == \"power\",\n",
    ").select([\"names\", \"geometry\", \"bbox\", \"class\", \"sources\", \"source_tags\"])"
   ]
  },
  {
   "cell_type": "code",
   "execution_count": 24,
   "id": "370a6f7d-2685-4afd-be36-782e4967aac8",
   "metadata": {},
   "outputs": [
    {
     "data": {
      "application/vnd.jupyter.widget-view+json": {
       "model_id": "3627ed95412e4790b1ae76b8e6f1581b",
       "version_major": 2,
       "version_minor": 0
      },
      "text/plain": [
       "FloatProgress(value=0.0, layout=Layout(width='auto'), style=ProgressStyle(bar_color='black'))"
      ]
     },
     "metadata": {},
     "output_type": "display_data"
    }
   ],
   "source": [
    "con.to_parquet(expr, \"power-infra-usa.geoparquet\")"
   ]
  },
  {
   "cell_type": "markdown",
   "id": "cb961633-26b5-404e-a999-997707309cb2",
   "metadata": {},
   "source": [
    "**Data Exploration**"
   ]
  },
  {
   "cell_type": "code",
   "execution_count": 26,
   "id": "5c1ec515-a28d-4671-8943-5e506457af42",
   "metadata": {},
   "outputs": [],
   "source": [
    "#turn interactive mode on\n",
    "ibis.options.interactive = True"
   ]
  },
  {
   "cell_type": "code",
   "execution_count": 27,
   "id": "3a39b6cf-49f7-46d2-b33a-531b12b99de1",
   "metadata": {},
   "outputs": [
    {
     "data": {
      "text/html": [
       "<pre style=\"white-space:pre;overflow-x:auto;line-height:normal;font-family:Menlo,'DejaVu Sans Mono',consolas,'Courier New',monospace\">┏━━━━━━━┳━━━━━━━━━━━━━━━━━━━━━━━━━━━━━━━━━━━━━━━━━━━━━━━━━━━━━━━━━━━━━━━━━━━━━━━━━━━━━━━━━━┳━━━━━━━━━━━━━━━━━━━━━━━━━━━━━━━━━━━━━━━━━━━━━━━━━━━━━━━━━━━━━━━━━━━━┳━━━━━━━━━━━━━┳━━━━━━━━━━━━━━━━━━━━━━━━━━━━━━━━━━━━━━━━━━━━━━━━━━━━━━━━━━━━━━━━━━━━━━━━━━━━━━━━━━┳━━━━━━━━━━━━━━━━━━━━━━━━━━━━━━━━━━━━━━━━━━━━━━━━━━━━━━━━┓\n",
       "┃<span style=\"font-weight: bold\"> names </span>┃<span style=\"font-weight: bold\"> geometry                                                                         </span>┃<span style=\"font-weight: bold\"> bbox                                                               </span>┃<span style=\"font-weight: bold\"> class       </span>┃<span style=\"font-weight: bold\"> sources                                                                          </span>┃<span style=\"font-weight: bold\"> source_tags                                            </span>┃\n",
       "┡━━━━━━━╇━━━━━━━━━━━━━━━━━━━━━━━━━━━━━━━━━━━━━━━━━━━━━━━━━━━━━━━━━━━━━━━━━━━━━━━━━━━━━━━━━━╇━━━━━━━━━━━━━━━━━━━━━━━━━━━━━━━━━━━━━━━━━━━━━━━━━━━━━━━━━━━━━━━━━━━━╇━━━━━━━━━━━━━╇━━━━━━━━━━━━━━━━━━━━━━━━━━━━━━━━━━━━━━━━━━━━━━━━━━━━━━━━━━━━━━━━━━━━━━━━━━━━━━━━━━╇━━━━━━━━━━━━━━━━━━━━━━━━━━━━━━━━━━━━━━━━━━━━━━━━━━━━━━━━┩\n",
       "│ <span style=\"color: #7f7f7f; text-decoration-color: #7f7f7f\">stru…</span> │ <span style=\"color: #7f7f7f; text-decoration-color: #7f7f7f\">geospatial:geometry</span>                                                              │ <span style=\"color: #7f7f7f; text-decoration-color: #7f7f7f\">struct&lt;xmin: float32, xmax: float32, ymin: float32, ymax: float32&gt;</span> │ <span style=\"color: #7f7f7f; text-decoration-color: #7f7f7f\">string</span>      │ <span style=\"color: #7f7f7f; text-decoration-color: #7f7f7f\">array&lt;struct&lt;property: string, dataset: string, record_id: string, update_time:…</span> │ <span style=\"color: #7f7f7f; text-decoration-color: #7f7f7f\">map&lt;string, string&gt;</span>                                    │\n",
       "├───────┼──────────────────────────────────────────────────────────────────────────────────┼────────────────────────────────────────────────────────────────────┼─────────────┼──────────────────────────────────────────────────────────────────────────────────┼────────────────────────────────────────────────────────┤\n",
       "│ <span style=\"color: #7f7f7f; text-decoration-color: #7f7f7f\">NULL</span>  │ <span style=\"font-weight: bold\">&lt;</span><span style=\"color: #ff00ff; text-decoration-color: #ff00ff; font-weight: bold\">POINT</span><span style=\"color: #000000; text-decoration-color: #000000\"> </span><span style=\"color: #000000; text-decoration-color: #000000; font-weight: bold\">(</span><span style=\"color: #008080; text-decoration-color: #008080; font-weight: bold\">-114.291</span><span style=\"color: #000000; text-decoration-color: #000000\"> </span><span style=\"color: #008080; text-decoration-color: #008080; font-weight: bold\">27.151</span><span style=\"color: #000000; text-decoration-color: #000000; font-weight: bold\">)</span><span style=\"font-weight: bold\">&gt;</span>                                                        │ <span style=\"font-weight: bold\">{</span><span style=\"color: #008000; text-decoration-color: #008000\">'xmin'</span>: <span style=\"color: #008080; text-decoration-color: #008080; font-weight: bold\">-114.29095458984375</span>, <span style=\"color: #008000; text-decoration-color: #008000\">'xmax'</span>: <span style=\"color: #008080; text-decoration-color: #008080; font-weight: bold\">-114.29093933105469</span>, <span style=\"color: #808000; text-decoration-color: #808000\">...</span> +<span style=\"color: #008080; text-decoration-color: #008080; font-weight: bold\">2</span><span style=\"font-weight: bold\">}</span> │ <span style=\"color: #008000; text-decoration-color: #008000\">power_tower</span> │ <span style=\"font-weight: bold\">[{</span><span style=\"color: #808000; text-decoration-color: #808000\">...</span><span style=\"font-weight: bold\">}]</span>                                                                          │ <span style=\"font-weight: bold\">{</span><span style=\"color: #008000; text-decoration-color: #008000\">'power'</span>: <span style=\"color: #008000; text-decoration-color: #008000\">'tower'</span><span style=\"font-weight: bold\">}</span>                                     │\n",
       "│ <span style=\"color: #7f7f7f; text-decoration-color: #7f7f7f\">NULL</span>  │ <span style=\"font-weight: bold\">&lt;</span><span style=\"color: #ff00ff; text-decoration-color: #ff00ff; font-weight: bold\">POINT</span><span style=\"color: #000000; text-decoration-color: #000000\"> </span><span style=\"color: #000000; text-decoration-color: #000000; font-weight: bold\">(</span><span style=\"color: #008080; text-decoration-color: #008080; font-weight: bold\">-114.289</span><span style=\"color: #000000; text-decoration-color: #000000\"> </span><span style=\"color: #008080; text-decoration-color: #008080; font-weight: bold\">27.149</span><span style=\"color: #000000; text-decoration-color: #000000; font-weight: bold\">)</span><span style=\"font-weight: bold\">&gt;</span>                                                        │ <span style=\"font-weight: bold\">{</span><span style=\"color: #008000; text-decoration-color: #008000\">'xmin'</span>: <span style=\"color: #008080; text-decoration-color: #008080; font-weight: bold\">-114.28852844238281</span>, <span style=\"color: #008000; text-decoration-color: #008000\">'xmax'</span>: <span style=\"color: #008080; text-decoration-color: #008080; font-weight: bold\">-114.28851318359375</span>, <span style=\"color: #808000; text-decoration-color: #808000\">...</span> +<span style=\"color: #008080; text-decoration-color: #008080; font-weight: bold\">2</span><span style=\"font-weight: bold\">}</span> │ <span style=\"color: #008000; text-decoration-color: #008000\">power_tower</span> │ <span style=\"font-weight: bold\">[{</span><span style=\"color: #808000; text-decoration-color: #808000\">...</span><span style=\"font-weight: bold\">}]</span>                                                                          │ <span style=\"font-weight: bold\">{</span><span style=\"color: #008000; text-decoration-color: #008000\">'power'</span>: <span style=\"color: #008000; text-decoration-color: #008000\">'tower'</span><span style=\"font-weight: bold\">}</span>                                     │\n",
       "│ <span style=\"color: #7f7f7f; text-decoration-color: #7f7f7f\">NULL</span>  │ <span style=\"font-weight: bold\">&lt;</span><span style=\"color: #ff00ff; text-decoration-color: #ff00ff; font-weight: bold\">POINT</span><span style=\"color: #000000; text-decoration-color: #000000\"> </span><span style=\"color: #000000; text-decoration-color: #000000; font-weight: bold\">(</span><span style=\"color: #008080; text-decoration-color: #008080; font-weight: bold\">-114.29</span><span style=\"color: #000000; text-decoration-color: #000000\"> </span><span style=\"color: #008080; text-decoration-color: #008080; font-weight: bold\">27.15</span><span style=\"color: #000000; text-decoration-color: #000000; font-weight: bold\">)</span><span style=\"font-weight: bold\">&gt;</span>                                                          │ <span style=\"font-weight: bold\">{</span><span style=\"color: #008000; text-decoration-color: #008000\">'xmin'</span>: <span style=\"color: #008080; text-decoration-color: #008080; font-weight: bold\">-114.29006958007812</span>, <span style=\"color: #008000; text-decoration-color: #008000\">'xmax'</span>: <span style=\"color: #008080; text-decoration-color: #008080; font-weight: bold\">-114.29005432128906</span>, <span style=\"color: #808000; text-decoration-color: #808000\">...</span> +<span style=\"color: #008080; text-decoration-color: #008080; font-weight: bold\">2</span><span style=\"font-weight: bold\">}</span> │ <span style=\"color: #008000; text-decoration-color: #008000\">power_tower</span> │ <span style=\"font-weight: bold\">[{</span><span style=\"color: #808000; text-decoration-color: #808000\">...</span><span style=\"font-weight: bold\">}]</span>                                                                          │ <span style=\"font-weight: bold\">{</span><span style=\"color: #008000; text-decoration-color: #008000\">'power'</span>: <span style=\"color: #008000; text-decoration-color: #008000\">'tower'</span><span style=\"font-weight: bold\">}</span>                                     │\n",
       "│ <span style=\"color: #7f7f7f; text-decoration-color: #7f7f7f\">NULL</span>  │ <span style=\"font-weight: bold\">&lt;</span><span style=\"color: #ff00ff; text-decoration-color: #ff00ff; font-weight: bold\">POINT</span><span style=\"color: #000000; text-decoration-color: #000000\"> </span><span style=\"color: #000000; text-decoration-color: #000000; font-weight: bold\">(</span><span style=\"color: #008080; text-decoration-color: #008080; font-weight: bold\">-114.29</span><span style=\"color: #000000; text-decoration-color: #000000\"> </span><span style=\"color: #008080; text-decoration-color: #008080; font-weight: bold\">27.151</span><span style=\"color: #000000; text-decoration-color: #000000; font-weight: bold\">)</span><span style=\"font-weight: bold\">&gt;</span>                                                         │ <span style=\"font-weight: bold\">{</span><span style=\"color: #008000; text-decoration-color: #008000\">'xmin'</span>: <span style=\"color: #008080; text-decoration-color: #008080; font-weight: bold\">-114.2900619506836</span>, <span style=\"color: #008000; text-decoration-color: #008000\">'xmax'</span>: <span style=\"color: #008080; text-decoration-color: #008080; font-weight: bold\">-114.29004669189453</span>, <span style=\"color: #808000; text-decoration-color: #808000\">...</span> +<span style=\"color: #008080; text-decoration-color: #008080; font-weight: bold\">2</span><span style=\"font-weight: bold\">}</span>  │ <span style=\"color: #008000; text-decoration-color: #008000\">power_tower</span> │ <span style=\"font-weight: bold\">[{</span><span style=\"color: #808000; text-decoration-color: #808000\">...</span><span style=\"font-weight: bold\">}]</span>                                                                          │ <span style=\"font-weight: bold\">{</span><span style=\"color: #008000; text-decoration-color: #008000\">'power'</span>: <span style=\"color: #008000; text-decoration-color: #008000\">'tower'</span><span style=\"font-weight: bold\">}</span>                                     │\n",
       "│ <span style=\"color: #7f7f7f; text-decoration-color: #7f7f7f\">NULL</span>  │ <span style=\"font-weight: bold\">&lt;</span><span style=\"color: #ff00ff; text-decoration-color: #ff00ff; font-weight: bold\">POLYGON</span><span style=\"color: #000000; text-decoration-color: #000000\"> </span><span style=\"color: #000000; text-decoration-color: #000000; font-weight: bold\">((</span><span style=\"color: #008080; text-decoration-color: #008080; font-weight: bold\">-114.29</span><span style=\"color: #000000; text-decoration-color: #000000\"> </span><span style=\"color: #008080; text-decoration-color: #008080; font-weight: bold\">27.152</span><span style=\"color: #000000; text-decoration-color: #000000\">, </span><span style=\"color: #008080; text-decoration-color: #008080; font-weight: bold\">-114.291</span><span style=\"color: #000000; text-decoration-color: #000000\"> </span><span style=\"color: #008080; text-decoration-color: #008080; font-weight: bold\">27.151</span><span style=\"color: #000000; text-decoration-color: #000000\">, </span><span style=\"color: #008080; text-decoration-color: #008080; font-weight: bold\">-114.29</span><span style=\"color: #000000; text-decoration-color: #000000\"> </span><span style=\"color: #008080; text-decoration-color: #008080; font-weight: bold\">27.15</span><span style=\"color: #000000; text-decoration-color: #000000\">, </span><span style=\"color: #008080; text-decoration-color: #008080; font-weight: bold\">-114.29</span><span style=\"color: #000000; text-decoration-color: #000000\"> </span><span style=\"color: #008080; text-decoration-color: #008080; font-weight: bold\">27.151</span><span style=\"color: #000000; text-decoration-color: #000000\">, -</span><span style=\"color: #808000; text-decoration-color: #808000\">...</span><span style=\"font-weight: bold\">&gt;</span> │ <span style=\"font-weight: bold\">{</span><span style=\"color: #008000; text-decoration-color: #008000\">'xmin'</span>: <span style=\"color: #008080; text-decoration-color: #008080; font-weight: bold\">-114.29100036621094</span>, <span style=\"color: #008000; text-decoration-color: #008000\">'xmax'</span>: <span style=\"color: #008080; text-decoration-color: #008080; font-weight: bold\">-114.28948974609375</span>, <span style=\"color: #808000; text-decoration-color: #808000\">...</span> +<span style=\"color: #008080; text-decoration-color: #008080; font-weight: bold\">2</span><span style=\"font-weight: bold\">}</span> │ <span style=\"color: #008000; text-decoration-color: #008000\">substation </span> │ <span style=\"font-weight: bold\">[{</span><span style=\"color: #808000; text-decoration-color: #808000\">...</span><span style=\"font-weight: bold\">}]</span>                                                                          │ <span style=\"font-weight: bold\">{</span><span style=\"color: #008000; text-decoration-color: #008000\">'location'</span>: <span style=\"color: #008000; text-decoration-color: #008000\">'outdoor'</span>, <span style=\"color: #008000; text-decoration-color: #008000\">'power'</span>: <span style=\"color: #008000; text-decoration-color: #008000\">'substation'</span>, <span style=\"color: #808000; text-decoration-color: #808000\">...</span> +<span style=\"color: #008080; text-decoration-color: #008080; font-weight: bold\">1</span><span style=\"font-weight: bold\">}</span> │\n",
       "│ <span style=\"color: #7f7f7f; text-decoration-color: #7f7f7f\">NULL</span>  │ <span style=\"font-weight: bold\">&lt;</span><span style=\"color: #ff00ff; text-decoration-color: #ff00ff; font-weight: bold\">POINT</span><span style=\"color: #000000; text-decoration-color: #000000\"> </span><span style=\"color: #000000; text-decoration-color: #000000; font-weight: bold\">(</span><span style=\"color: #008080; text-decoration-color: #008080; font-weight: bold\">-114.291</span><span style=\"color: #000000; text-decoration-color: #000000\"> </span><span style=\"color: #008080; text-decoration-color: #008080; font-weight: bold\">27.151</span><span style=\"color: #000000; text-decoration-color: #000000; font-weight: bold\">)</span><span style=\"font-weight: bold\">&gt;</span>                                                        │ <span style=\"font-weight: bold\">{</span><span style=\"color: #008000; text-decoration-color: #008000\">'xmin'</span>: <span style=\"color: #008080; text-decoration-color: #008080; font-weight: bold\">-114.29055786132812</span>, <span style=\"color: #008000; text-decoration-color: #008000\">'xmax'</span>: <span style=\"color: #008080; text-decoration-color: #008080; font-weight: bold\">-114.29054260253906</span>, <span style=\"color: #808000; text-decoration-color: #808000\">...</span> +<span style=\"color: #008080; text-decoration-color: #008080; font-weight: bold\">2</span><span style=\"font-weight: bold\">}</span> │ <span style=\"color: #008000; text-decoration-color: #008000\">portal     </span> │ <span style=\"font-weight: bold\">[{</span><span style=\"color: #808000; text-decoration-color: #808000\">...</span><span style=\"font-weight: bold\">}]</span>                                                                          │ <span style=\"font-weight: bold\">{</span><span style=\"color: #008000; text-decoration-color: #008000\">'power'</span>: <span style=\"color: #008000; text-decoration-color: #008000\">'portal'</span><span style=\"font-weight: bold\">}</span>                                    │\n",
       "│ <span style=\"color: #7f7f7f; text-decoration-color: #7f7f7f\">NULL</span>  │ <span style=\"font-weight: bold\">&lt;</span><span style=\"color: #ff00ff; text-decoration-color: #ff00ff; font-weight: bold\">POINT</span><span style=\"color: #000000; text-decoration-color: #000000\"> </span><span style=\"color: #000000; text-decoration-color: #000000; font-weight: bold\">(</span><span style=\"color: #008080; text-decoration-color: #008080; font-weight: bold\">-114.291</span><span style=\"color: #000000; text-decoration-color: #000000\"> </span><span style=\"color: #008080; text-decoration-color: #008080; font-weight: bold\">27.152</span><span style=\"color: #000000; text-decoration-color: #000000; font-weight: bold\">)</span><span style=\"font-weight: bold\">&gt;</span>                                                        │ <span style=\"font-weight: bold\">{</span><span style=\"color: #008000; text-decoration-color: #008000\">'xmin'</span>: <span style=\"color: #008080; text-decoration-color: #008080; font-weight: bold\">-114.29069519042969</span>, <span style=\"color: #008000; text-decoration-color: #008000\">'xmax'</span>: <span style=\"color: #008080; text-decoration-color: #008080; font-weight: bold\">-114.29067993164062</span>, <span style=\"color: #808000; text-decoration-color: #808000\">...</span> +<span style=\"color: #008080; text-decoration-color: #008080; font-weight: bold\">2</span><span style=\"font-weight: bold\">}</span> │ <span style=\"color: #008000; text-decoration-color: #008000\">power_tower</span> │ <span style=\"font-weight: bold\">[{</span><span style=\"color: #808000; text-decoration-color: #808000\">...</span><span style=\"font-weight: bold\">}]</span>                                                                          │ <span style=\"font-weight: bold\">{</span><span style=\"color: #008000; text-decoration-color: #008000\">'power'</span>: <span style=\"color: #008000; text-decoration-color: #008000\">'tower'</span><span style=\"font-weight: bold\">}</span>                                     │\n",
       "│ <span style=\"color: #7f7f7f; text-decoration-color: #7f7f7f\">NULL</span>  │ <span style=\"font-weight: bold\">&lt;</span><span style=\"color: #ff00ff; text-decoration-color: #ff00ff; font-weight: bold\">POINT</span><span style=\"color: #000000; text-decoration-color: #000000\"> </span><span style=\"color: #000000; text-decoration-color: #000000; font-weight: bold\">(</span><span style=\"color: #008080; text-decoration-color: #008080; font-weight: bold\">-114.288</span><span style=\"color: #000000; text-decoration-color: #000000\"> </span><span style=\"color: #008080; text-decoration-color: #008080; font-weight: bold\">27.151</span><span style=\"color: #000000; text-decoration-color: #000000; font-weight: bold\">)</span><span style=\"font-weight: bold\">&gt;</span>                                                        │ <span style=\"font-weight: bold\">{</span><span style=\"color: #008000; text-decoration-color: #008000\">'xmin'</span>: <span style=\"color: #008080; text-decoration-color: #008080; font-weight: bold\">-114.28756713867188</span>, <span style=\"color: #008000; text-decoration-color: #008000\">'xmax'</span>: <span style=\"color: #008080; text-decoration-color: #008080; font-weight: bold\">-114.28755187988281</span>, <span style=\"color: #808000; text-decoration-color: #808000\">...</span> +<span style=\"color: #008080; text-decoration-color: #008080; font-weight: bold\">2</span><span style=\"font-weight: bold\">}</span> │ <span style=\"color: #008000; text-decoration-color: #008000\">power_tower</span> │ <span style=\"font-weight: bold\">[{</span><span style=\"color: #808000; text-decoration-color: #808000\">...</span><span style=\"font-weight: bold\">}]</span>                                                                          │ <span style=\"font-weight: bold\">{</span><span style=\"color: #008000; text-decoration-color: #008000\">'power'</span>: <span style=\"color: #008000; text-decoration-color: #008000\">'tower'</span><span style=\"font-weight: bold\">}</span>                                     │\n",
       "│ <span style=\"color: #7f7f7f; text-decoration-color: #7f7f7f\">NULL</span>  │ <span style=\"font-weight: bold\">&lt;</span><span style=\"color: #ff00ff; text-decoration-color: #ff00ff; font-weight: bold\">POINT</span><span style=\"color: #000000; text-decoration-color: #000000\"> </span><span style=\"color: #000000; text-decoration-color: #000000; font-weight: bold\">(</span><span style=\"color: #008080; text-decoration-color: #008080; font-weight: bold\">-114.286</span><span style=\"color: #000000; text-decoration-color: #000000\"> </span><span style=\"color: #008080; text-decoration-color: #008080; font-weight: bold\">27.152</span><span style=\"color: #000000; text-decoration-color: #000000; font-weight: bold\">)</span><span style=\"font-weight: bold\">&gt;</span>                                                        │ <span style=\"font-weight: bold\">{</span><span style=\"color: #008000; text-decoration-color: #008000\">'xmin'</span>: <span style=\"color: #008080; text-decoration-color: #008080; font-weight: bold\">-114.28639221191406</span>, <span style=\"color: #008000; text-decoration-color: #008000\">'xmax'</span>: <span style=\"color: #008080; text-decoration-color: #008080; font-weight: bold\">-114.286376953125</span>, <span style=\"color: #808000; text-decoration-color: #808000\">...</span> +<span style=\"color: #008080; text-decoration-color: #008080; font-weight: bold\">2</span><span style=\"font-weight: bold\">}</span>   │ <span style=\"color: #008000; text-decoration-color: #008000\">power_tower</span> │ <span style=\"font-weight: bold\">[{</span><span style=\"color: #808000; text-decoration-color: #808000\">...</span><span style=\"font-weight: bold\">}]</span>                                                                          │ <span style=\"font-weight: bold\">{</span><span style=\"color: #008000; text-decoration-color: #008000\">'power'</span>: <span style=\"color: #008000; text-decoration-color: #008000\">'tower'</span><span style=\"font-weight: bold\">}</span>                                     │\n",
       "│ <span style=\"color: #7f7f7f; text-decoration-color: #7f7f7f\">NULL</span>  │ <span style=\"font-weight: bold\">&lt;</span><span style=\"color: #ff00ff; text-decoration-color: #ff00ff; font-weight: bold\">POINT</span><span style=\"color: #000000; text-decoration-color: #000000\"> </span><span style=\"color: #000000; text-decoration-color: #000000; font-weight: bold\">(</span><span style=\"color: #008080; text-decoration-color: #008080; font-weight: bold\">-114.285</span><span style=\"color: #000000; text-decoration-color: #000000\"> </span><span style=\"color: #008080; text-decoration-color: #008080; font-weight: bold\">27.152</span><span style=\"color: #000000; text-decoration-color: #000000; font-weight: bold\">)</span><span style=\"font-weight: bold\">&gt;</span>                                                        │ <span style=\"font-weight: bold\">{</span><span style=\"color: #008000; text-decoration-color: #008000\">'xmin'</span>: <span style=\"color: #008080; text-decoration-color: #008080; font-weight: bold\">-114.2851333618164</span>, <span style=\"color: #008000; text-decoration-color: #008000\">'xmax'</span>: <span style=\"color: #008080; text-decoration-color: #008080; font-weight: bold\">-114.28511810302734</span>, <span style=\"color: #808000; text-decoration-color: #808000\">...</span> +<span style=\"color: #008080; text-decoration-color: #008080; font-weight: bold\">2</span><span style=\"font-weight: bold\">}</span>  │ <span style=\"color: #008000; text-decoration-color: #008000\">power_tower</span> │ <span style=\"font-weight: bold\">[{</span><span style=\"color: #808000; text-decoration-color: #808000\">...</span><span style=\"font-weight: bold\">}]</span>                                                                          │ <span style=\"font-weight: bold\">{</span><span style=\"color: #008000; text-decoration-color: #008000\">'power'</span>: <span style=\"color: #008000; text-decoration-color: #008000\">'tower'</span><span style=\"font-weight: bold\">}</span>                                     │\n",
       "│ <span style=\"color: #7f7f7f; text-decoration-color: #7f7f7f\">…</span>     │ <span style=\"color: #7f7f7f; text-decoration-color: #7f7f7f\">…</span>                                                                                │ <span style=\"color: #7f7f7f; text-decoration-color: #7f7f7f\">…</span>                                                                  │ <span style=\"color: #7f7f7f; text-decoration-color: #7f7f7f\">…</span>           │ <span style=\"color: #7f7f7f; text-decoration-color: #7f7f7f\">…</span>                                                                                │ <span style=\"color: #7f7f7f; text-decoration-color: #7f7f7f\">…</span>                                                      │\n",
       "└───────┴──────────────────────────────────────────────────────────────────────────────────┴────────────────────────────────────────────────────────────────────┴─────────────┴──────────────────────────────────────────────────────────────────────────────────┴────────────────────────────────────────────────────────┘\n",
       "</pre>\n"
      ],
      "text/plain": [
       "┏━━━━━━━┳━━━━━━━━━━━━━━━━━━━━━━━━━━━━━━━━━━━━━━━━━━━━━━━━━━━━━━━━━━━━━━━━━━━━━━━━━━━━━━━━━━┳━━━━━━━━━━━━━━━━━━━━━━━━━━━━━━━━━━━━━━━━━━━━━━━━━━━━━━━━━━━━━━━━━━━━┳━━━━━━━━━━━━━┳━━━━━━━━━━━━━━━━━━━━━━━━━━━━━━━━━━━━━━━━━━━━━━━━━━━━━━━━━━━━━━━━━━━━━━━━━━━━━━━━━━┳━━━━━━━━━━━━━━━━━━━━━━━━━━━━━━━━━━━━━━━━━━━━━━━━━━━━━━━━┓\n",
       "┃\u001b[1m \u001b[0m\u001b[1mnames\u001b[0m\u001b[1m \u001b[0m┃\u001b[1m \u001b[0m\u001b[1mgeometry\u001b[0m\u001b[1m                                                                        \u001b[0m\u001b[1m \u001b[0m┃\u001b[1m \u001b[0m\u001b[1mbbox\u001b[0m\u001b[1m                                                              \u001b[0m\u001b[1m \u001b[0m┃\u001b[1m \u001b[0m\u001b[1mclass\u001b[0m\u001b[1m      \u001b[0m\u001b[1m \u001b[0m┃\u001b[1m \u001b[0m\u001b[1msources\u001b[0m\u001b[1m                                                                         \u001b[0m\u001b[1m \u001b[0m┃\u001b[1m \u001b[0m\u001b[1msource_tags\u001b[0m\u001b[1m                                           \u001b[0m\u001b[1m \u001b[0m┃\n",
       "┡━━━━━━━╇━━━━━━━━━━━━━━━━━━━━━━━━━━━━━━━━━━━━━━━━━━━━━━━━━━━━━━━━━━━━━━━━━━━━━━━━━━━━━━━━━━╇━━━━━━━━━━━━━━━━━━━━━━━━━━━━━━━━━━━━━━━━━━━━━━━━━━━━━━━━━━━━━━━━━━━━╇━━━━━━━━━━━━━╇━━━━━━━━━━━━━━━━━━━━━━━━━━━━━━━━━━━━━━━━━━━━━━━━━━━━━━━━━━━━━━━━━━━━━━━━━━━━━━━━━━╇━━━━━━━━━━━━━━━━━━━━━━━━━━━━━━━━━━━━━━━━━━━━━━━━━━━━━━━━┩\n",
       "│ \u001b[2mstru…\u001b[0m │ \u001b[2mgeospatial:geometry\u001b[0m                                                              │ \u001b[2mstruct<xmin: float32, xmax: float32, ymin: float32, ymax: float32>\u001b[0m │ \u001b[2mstring\u001b[0m      │ \u001b[2marray<struct<property: string, dataset: string, record_id: string, update_time:…\u001b[0m │ \u001b[2mmap<string, string>\u001b[0m                                    │\n",
       "├───────┼──────────────────────────────────────────────────────────────────────────────────┼────────────────────────────────────────────────────────────────────┼─────────────┼──────────────────────────────────────────────────────────────────────────────────┼────────────────────────────────────────────────────────┤\n",
       "│ \u001b[2mNULL\u001b[0m  │ \u001b[1m<\u001b[0m\u001b[1;95mPOINT\u001b[0m\u001b[39m \u001b[0m\u001b[1;39m(\u001b[0m\u001b[1;36m-114.291\u001b[0m\u001b[39m \u001b[0m\u001b[1;36m27.151\u001b[0m\u001b[1;39m)\u001b[0m\u001b[1m>\u001b[0m                                                        │ \u001b[1m{\u001b[0m\u001b[32m'xmin'\u001b[0m: \u001b[1;36m-114.29095458984375\u001b[0m, \u001b[32m'xmax'\u001b[0m: \u001b[1;36m-114.29093933105469\u001b[0m, \u001b[33m...\u001b[0m +\u001b[1;36m2\u001b[0m\u001b[1m}\u001b[0m │ \u001b[32mpower_tower\u001b[0m │ \u001b[1m[\u001b[0m\u001b[1m{\u001b[0m\u001b[33m...\u001b[0m\u001b[1m}\u001b[0m\u001b[1m]\u001b[0m                                                                          │ \u001b[1m{\u001b[0m\u001b[32m'power'\u001b[0m: \u001b[32m'tower'\u001b[0m\u001b[1m}\u001b[0m                                     │\n",
       "│ \u001b[2mNULL\u001b[0m  │ \u001b[1m<\u001b[0m\u001b[1;95mPOINT\u001b[0m\u001b[39m \u001b[0m\u001b[1;39m(\u001b[0m\u001b[1;36m-114.289\u001b[0m\u001b[39m \u001b[0m\u001b[1;36m27.149\u001b[0m\u001b[1;39m)\u001b[0m\u001b[1m>\u001b[0m                                                        │ \u001b[1m{\u001b[0m\u001b[32m'xmin'\u001b[0m: \u001b[1;36m-114.28852844238281\u001b[0m, \u001b[32m'xmax'\u001b[0m: \u001b[1;36m-114.28851318359375\u001b[0m, \u001b[33m...\u001b[0m +\u001b[1;36m2\u001b[0m\u001b[1m}\u001b[0m │ \u001b[32mpower_tower\u001b[0m │ \u001b[1m[\u001b[0m\u001b[1m{\u001b[0m\u001b[33m...\u001b[0m\u001b[1m}\u001b[0m\u001b[1m]\u001b[0m                                                                          │ \u001b[1m{\u001b[0m\u001b[32m'power'\u001b[0m: \u001b[32m'tower'\u001b[0m\u001b[1m}\u001b[0m                                     │\n",
       "│ \u001b[2mNULL\u001b[0m  │ \u001b[1m<\u001b[0m\u001b[1;95mPOINT\u001b[0m\u001b[39m \u001b[0m\u001b[1;39m(\u001b[0m\u001b[1;36m-114.29\u001b[0m\u001b[39m \u001b[0m\u001b[1;36m27.15\u001b[0m\u001b[1;39m)\u001b[0m\u001b[1m>\u001b[0m                                                          │ \u001b[1m{\u001b[0m\u001b[32m'xmin'\u001b[0m: \u001b[1;36m-114.29006958007812\u001b[0m, \u001b[32m'xmax'\u001b[0m: \u001b[1;36m-114.29005432128906\u001b[0m, \u001b[33m...\u001b[0m +\u001b[1;36m2\u001b[0m\u001b[1m}\u001b[0m │ \u001b[32mpower_tower\u001b[0m │ \u001b[1m[\u001b[0m\u001b[1m{\u001b[0m\u001b[33m...\u001b[0m\u001b[1m}\u001b[0m\u001b[1m]\u001b[0m                                                                          │ \u001b[1m{\u001b[0m\u001b[32m'power'\u001b[0m: \u001b[32m'tower'\u001b[0m\u001b[1m}\u001b[0m                                     │\n",
       "│ \u001b[2mNULL\u001b[0m  │ \u001b[1m<\u001b[0m\u001b[1;95mPOINT\u001b[0m\u001b[39m \u001b[0m\u001b[1;39m(\u001b[0m\u001b[1;36m-114.29\u001b[0m\u001b[39m \u001b[0m\u001b[1;36m27.151\u001b[0m\u001b[1;39m)\u001b[0m\u001b[1m>\u001b[0m                                                         │ \u001b[1m{\u001b[0m\u001b[32m'xmin'\u001b[0m: \u001b[1;36m-114.2900619506836\u001b[0m, \u001b[32m'xmax'\u001b[0m: \u001b[1;36m-114.29004669189453\u001b[0m, \u001b[33m...\u001b[0m +\u001b[1;36m2\u001b[0m\u001b[1m}\u001b[0m  │ \u001b[32mpower_tower\u001b[0m │ \u001b[1m[\u001b[0m\u001b[1m{\u001b[0m\u001b[33m...\u001b[0m\u001b[1m}\u001b[0m\u001b[1m]\u001b[0m                                                                          │ \u001b[1m{\u001b[0m\u001b[32m'power'\u001b[0m: \u001b[32m'tower'\u001b[0m\u001b[1m}\u001b[0m                                     │\n",
       "│ \u001b[2mNULL\u001b[0m  │ \u001b[1m<\u001b[0m\u001b[1;95mPOLYGON\u001b[0m\u001b[39m \u001b[0m\u001b[1;39m(\u001b[0m\u001b[1;39m(\u001b[0m\u001b[1;36m-114.29\u001b[0m\u001b[39m \u001b[0m\u001b[1;36m27.152\u001b[0m\u001b[39m, \u001b[0m\u001b[1;36m-114.291\u001b[0m\u001b[39m \u001b[0m\u001b[1;36m27.151\u001b[0m\u001b[39m, \u001b[0m\u001b[1;36m-114.29\u001b[0m\u001b[39m \u001b[0m\u001b[1;36m27.15\u001b[0m\u001b[39m, \u001b[0m\u001b[1;36m-114.29\u001b[0m\u001b[39m \u001b[0m\u001b[1;36m27.151\u001b[0m\u001b[39m, -\u001b[0m\u001b[33m...\u001b[0m\u001b[1m>\u001b[0m │ \u001b[1m{\u001b[0m\u001b[32m'xmin'\u001b[0m: \u001b[1;36m-114.29100036621094\u001b[0m, \u001b[32m'xmax'\u001b[0m: \u001b[1;36m-114.28948974609375\u001b[0m, \u001b[33m...\u001b[0m +\u001b[1;36m2\u001b[0m\u001b[1m}\u001b[0m │ \u001b[32msubstation \u001b[0m │ \u001b[1m[\u001b[0m\u001b[1m{\u001b[0m\u001b[33m...\u001b[0m\u001b[1m}\u001b[0m\u001b[1m]\u001b[0m                                                                          │ \u001b[1m{\u001b[0m\u001b[32m'location'\u001b[0m: \u001b[32m'outdoor'\u001b[0m, \u001b[32m'power'\u001b[0m: \u001b[32m'substation'\u001b[0m, \u001b[33m...\u001b[0m +\u001b[1;36m1\u001b[0m\u001b[1m}\u001b[0m │\n",
       "│ \u001b[2mNULL\u001b[0m  │ \u001b[1m<\u001b[0m\u001b[1;95mPOINT\u001b[0m\u001b[39m \u001b[0m\u001b[1;39m(\u001b[0m\u001b[1;36m-114.291\u001b[0m\u001b[39m \u001b[0m\u001b[1;36m27.151\u001b[0m\u001b[1;39m)\u001b[0m\u001b[1m>\u001b[0m                                                        │ \u001b[1m{\u001b[0m\u001b[32m'xmin'\u001b[0m: \u001b[1;36m-114.29055786132812\u001b[0m, \u001b[32m'xmax'\u001b[0m: \u001b[1;36m-114.29054260253906\u001b[0m, \u001b[33m...\u001b[0m +\u001b[1;36m2\u001b[0m\u001b[1m}\u001b[0m │ \u001b[32mportal     \u001b[0m │ \u001b[1m[\u001b[0m\u001b[1m{\u001b[0m\u001b[33m...\u001b[0m\u001b[1m}\u001b[0m\u001b[1m]\u001b[0m                                                                          │ \u001b[1m{\u001b[0m\u001b[32m'power'\u001b[0m: \u001b[32m'portal'\u001b[0m\u001b[1m}\u001b[0m                                    │\n",
       "│ \u001b[2mNULL\u001b[0m  │ \u001b[1m<\u001b[0m\u001b[1;95mPOINT\u001b[0m\u001b[39m \u001b[0m\u001b[1;39m(\u001b[0m\u001b[1;36m-114.291\u001b[0m\u001b[39m \u001b[0m\u001b[1;36m27.152\u001b[0m\u001b[1;39m)\u001b[0m\u001b[1m>\u001b[0m                                                        │ \u001b[1m{\u001b[0m\u001b[32m'xmin'\u001b[0m: \u001b[1;36m-114.29069519042969\u001b[0m, \u001b[32m'xmax'\u001b[0m: \u001b[1;36m-114.29067993164062\u001b[0m, \u001b[33m...\u001b[0m +\u001b[1;36m2\u001b[0m\u001b[1m}\u001b[0m │ \u001b[32mpower_tower\u001b[0m │ \u001b[1m[\u001b[0m\u001b[1m{\u001b[0m\u001b[33m...\u001b[0m\u001b[1m}\u001b[0m\u001b[1m]\u001b[0m                                                                          │ \u001b[1m{\u001b[0m\u001b[32m'power'\u001b[0m: \u001b[32m'tower'\u001b[0m\u001b[1m}\u001b[0m                                     │\n",
       "│ \u001b[2mNULL\u001b[0m  │ \u001b[1m<\u001b[0m\u001b[1;95mPOINT\u001b[0m\u001b[39m \u001b[0m\u001b[1;39m(\u001b[0m\u001b[1;36m-114.288\u001b[0m\u001b[39m \u001b[0m\u001b[1;36m27.151\u001b[0m\u001b[1;39m)\u001b[0m\u001b[1m>\u001b[0m                                                        │ \u001b[1m{\u001b[0m\u001b[32m'xmin'\u001b[0m: \u001b[1;36m-114.28756713867188\u001b[0m, \u001b[32m'xmax'\u001b[0m: \u001b[1;36m-114.28755187988281\u001b[0m, \u001b[33m...\u001b[0m +\u001b[1;36m2\u001b[0m\u001b[1m}\u001b[0m │ \u001b[32mpower_tower\u001b[0m │ \u001b[1m[\u001b[0m\u001b[1m{\u001b[0m\u001b[33m...\u001b[0m\u001b[1m}\u001b[0m\u001b[1m]\u001b[0m                                                                          │ \u001b[1m{\u001b[0m\u001b[32m'power'\u001b[0m: \u001b[32m'tower'\u001b[0m\u001b[1m}\u001b[0m                                     │\n",
       "│ \u001b[2mNULL\u001b[0m  │ \u001b[1m<\u001b[0m\u001b[1;95mPOINT\u001b[0m\u001b[39m \u001b[0m\u001b[1;39m(\u001b[0m\u001b[1;36m-114.286\u001b[0m\u001b[39m \u001b[0m\u001b[1;36m27.152\u001b[0m\u001b[1;39m)\u001b[0m\u001b[1m>\u001b[0m                                                        │ \u001b[1m{\u001b[0m\u001b[32m'xmin'\u001b[0m: \u001b[1;36m-114.28639221191406\u001b[0m, \u001b[32m'xmax'\u001b[0m: \u001b[1;36m-114.286376953125\u001b[0m, \u001b[33m...\u001b[0m +\u001b[1;36m2\u001b[0m\u001b[1m}\u001b[0m   │ \u001b[32mpower_tower\u001b[0m │ \u001b[1m[\u001b[0m\u001b[1m{\u001b[0m\u001b[33m...\u001b[0m\u001b[1m}\u001b[0m\u001b[1m]\u001b[0m                                                                          │ \u001b[1m{\u001b[0m\u001b[32m'power'\u001b[0m: \u001b[32m'tower'\u001b[0m\u001b[1m}\u001b[0m                                     │\n",
       "│ \u001b[2mNULL\u001b[0m  │ \u001b[1m<\u001b[0m\u001b[1;95mPOINT\u001b[0m\u001b[39m \u001b[0m\u001b[1;39m(\u001b[0m\u001b[1;36m-114.285\u001b[0m\u001b[39m \u001b[0m\u001b[1;36m27.152\u001b[0m\u001b[1;39m)\u001b[0m\u001b[1m>\u001b[0m                                                        │ \u001b[1m{\u001b[0m\u001b[32m'xmin'\u001b[0m: \u001b[1;36m-114.2851333618164\u001b[0m, \u001b[32m'xmax'\u001b[0m: \u001b[1;36m-114.28511810302734\u001b[0m, \u001b[33m...\u001b[0m +\u001b[1;36m2\u001b[0m\u001b[1m}\u001b[0m  │ \u001b[32mpower_tower\u001b[0m │ \u001b[1m[\u001b[0m\u001b[1m{\u001b[0m\u001b[33m...\u001b[0m\u001b[1m}\u001b[0m\u001b[1m]\u001b[0m                                                                          │ \u001b[1m{\u001b[0m\u001b[32m'power'\u001b[0m: \u001b[32m'tower'\u001b[0m\u001b[1m}\u001b[0m                                     │\n",
       "│ \u001b[2m…\u001b[0m     │ \u001b[2m…\u001b[0m                                                                                │ \u001b[2m…\u001b[0m                                                                  │ \u001b[2m…\u001b[0m           │ \u001b[2m…\u001b[0m                                                                                │ \u001b[2m…\u001b[0m                                                      │\n",
       "└───────┴──────────────────────────────────────────────────────────────────────────────────┴────────────────────────────────────────────────────────────────────┴─────────────┴──────────────────────────────────────────────────────────────────────────────────┴────────────────────────────────────────────────────────┘"
      ]
     },
     "execution_count": 27,
     "metadata": {},
     "output_type": "execute_result"
    }
   ],
   "source": [
    "#read file and show fields\n",
    "usa_power_infra = con.read_parquet(\"power-infra-usa.geoparquet\")\n",
    "usa_power_infra"
   ]
  },
  {
   "cell_type": "code",
   "execution_count": 28,
   "id": "d06f19e4-2184-48de-9850-e7aea5209b96",
   "metadata": {},
   "outputs": [],
   "source": [
    "#rename class column to prevent possible conflicts\n",
    "usa_power_infra = usa_power_infra.rename(infra_class=\"class\")"
   ]
  },
  {
   "cell_type": "code",
   "execution_count": 29,
   "id": "13a63c4d-e828-49a4-88aa-fba774e4a2b4",
   "metadata": {},
   "outputs": [
    {
     "data": {
      "text/html": [
       "<pre style=\"white-space:pre;overflow-x:auto;line-height:normal;font-family:Menlo,'DejaVu Sans Mono',consolas,'Courier New',monospace\">┏━━━━━━━━━━━━━━━┳━━━━━━━━━━━━━━━━━━━┓\n",
       "┃<span style=\"font-weight: bold\"> infra_class   </span>┃<span style=\"font-weight: bold\"> infra_class_count </span>┃\n",
       "┡━━━━━━━━━━━━━━━╇━━━━━━━━━━━━━━━━━━━┩\n",
       "│ <span style=\"color: #7f7f7f; text-decoration-color: #7f7f7f\">string</span>        │ <span style=\"color: #7f7f7f; text-decoration-color: #7f7f7f\">int64</span>             │\n",
       "├───────────────┼───────────────────┤\n",
       "│ <span style=\"color: #008000; text-decoration-color: #008000\">power_pole   </span> │           <span style=\"color: #008080; text-decoration-color: #008080; font-weight: bold\">3146464</span> │\n",
       "│ <span style=\"color: #008000; text-decoration-color: #008000\">power_tower  </span> │           <span style=\"color: #008080; text-decoration-color: #008080; font-weight: bold\">2617289</span> │\n",
       "│ <span style=\"color: #008000; text-decoration-color: #008000\">generator    </span> │            <span style=\"color: #008080; text-decoration-color: #008080; font-weight: bold\">969469</span> │\n",
       "│ <span style=\"color: #008000; text-decoration-color: #008000\">power_line   </span> │            <span style=\"color: #008080; text-decoration-color: #008080; font-weight: bold\">256084</span> │\n",
       "│ <span style=\"color: #008000; text-decoration-color: #008000\">minor_line   </span> │            <span style=\"color: #008080; text-decoration-color: #008080; font-weight: bold\">120838</span> │\n",
       "│ <span style=\"color: #008000; text-decoration-color: #008000\">substation   </span> │             <span style=\"color: #008080; text-decoration-color: #008080; font-weight: bold\">65962</span> │\n",
       "│ <span style=\"color: #008000; text-decoration-color: #008000\">portal       </span> │             <span style=\"color: #008080; text-decoration-color: #008080; font-weight: bold\">61431</span> │\n",
       "│ <span style=\"color: #008000; text-decoration-color: #008000\">switch       </span> │             <span style=\"color: #008080; text-decoration-color: #008080; font-weight: bold\">54421</span> │\n",
       "│ <span style=\"color: #008000; text-decoration-color: #008000\">transformer  </span> │             <span style=\"color: #008080; text-decoration-color: #008080; font-weight: bold\">52527</span> │\n",
       "│ <span style=\"color: #008000; text-decoration-color: #008000\">plant        </span> │             <span style=\"color: #008080; text-decoration-color: #008080; font-weight: bold\">12605</span> │\n",
       "│ <span style=\"color: #008000; text-decoration-color: #008000\">cable        </span> │              <span style=\"color: #008080; text-decoration-color: #008080; font-weight: bold\">5390</span> │\n",
       "│ <span style=\"color: #008000; text-decoration-color: #008000\">catenary_mast</span> │              <span style=\"color: #008080; text-decoration-color: #008080; font-weight: bold\">3019</span> │\n",
       "│ <span style=\"color: #008000; text-decoration-color: #008000\">insulator    </span> │              <span style=\"color: #008080; text-decoration-color: #008080; font-weight: bold\">1713</span> │\n",
       "│ <span style=\"color: #008000; text-decoration-color: #008000\">connection   </span> │              <span style=\"color: #008080; text-decoration-color: #008080; font-weight: bold\">1225</span> │\n",
       "│ <span style=\"color: #008000; text-decoration-color: #008000\">terminal     </span> │               <span style=\"color: #008080; text-decoration-color: #008080; font-weight: bold\">415</span> │\n",
       "│ <span style=\"color: #7f7f7f; text-decoration-color: #7f7f7f\">…</span>             │                 <span style=\"color: #7f7f7f; text-decoration-color: #7f7f7f\">…</span> │\n",
       "└───────────────┴───────────────────┘\n",
       "</pre>\n"
      ],
      "text/plain": [
       "┏━━━━━━━━━━━━━━━┳━━━━━━━━━━━━━━━━━━━┓\n",
       "┃\u001b[1m \u001b[0m\u001b[1minfra_class\u001b[0m\u001b[1m  \u001b[0m\u001b[1m \u001b[0m┃\u001b[1m \u001b[0m\u001b[1minfra_class_count\u001b[0m\u001b[1m \u001b[0m┃\n",
       "┡━━━━━━━━━━━━━━━╇━━━━━━━━━━━━━━━━━━━┩\n",
       "│ \u001b[2mstring\u001b[0m        │ \u001b[2mint64\u001b[0m             │\n",
       "├───────────────┼───────────────────┤\n",
       "│ \u001b[32mpower_pole   \u001b[0m │           \u001b[1;36m3146464\u001b[0m │\n",
       "│ \u001b[32mpower_tower  \u001b[0m │           \u001b[1;36m2617289\u001b[0m │\n",
       "│ \u001b[32mgenerator    \u001b[0m │            \u001b[1;36m969469\u001b[0m │\n",
       "│ \u001b[32mpower_line   \u001b[0m │            \u001b[1;36m256084\u001b[0m │\n",
       "│ \u001b[32mminor_line   \u001b[0m │            \u001b[1;36m120838\u001b[0m │\n",
       "│ \u001b[32msubstation   \u001b[0m │             \u001b[1;36m65962\u001b[0m │\n",
       "│ \u001b[32mportal       \u001b[0m │             \u001b[1;36m61431\u001b[0m │\n",
       "│ \u001b[32mswitch       \u001b[0m │             \u001b[1;36m54421\u001b[0m │\n",
       "│ \u001b[32mtransformer  \u001b[0m │             \u001b[1;36m52527\u001b[0m │\n",
       "│ \u001b[32mplant        \u001b[0m │             \u001b[1;36m12605\u001b[0m │\n",
       "│ \u001b[32mcable        \u001b[0m │              \u001b[1;36m5390\u001b[0m │\n",
       "│ \u001b[32mcatenary_mast\u001b[0m │              \u001b[1;36m3019\u001b[0m │\n",
       "│ \u001b[32minsulator    \u001b[0m │              \u001b[1;36m1713\u001b[0m │\n",
       "│ \u001b[32mconnection   \u001b[0m │              \u001b[1;36m1225\u001b[0m │\n",
       "│ \u001b[32mterminal     \u001b[0m │               \u001b[1;36m415\u001b[0m │\n",
       "│ \u001b[2m…\u001b[0m             │                 \u001b[2m…\u001b[0m │\n",
       "└───────────────┴───────────────────┘\n"
      ]
     },
     "execution_count": 29,
     "metadata": {},
     "output_type": "execute_result"
    }
   ],
   "source": [
    "#preview the different infrastructure classes\n",
    "usa_power_infra.infra_class.value_counts().order_by(\n",
    "    ibis.desc(\"infra_class_count\")\n",
    ").preview(max_rows=15)"
   ]
  },
  {
   "cell_type": "code",
   "execution_count": 30,
   "id": "486f2816-3454-49ef-b177-1ee11d03f9bb",
   "metadata": {},
   "outputs": [],
   "source": [
    "#filter out the classes of interest (e.g. plant, power_line and minor_line)\n",
    "plants = usa_power_infra.filter(_.infra_class==\"plant\")\n",
    "power_lines = usa_power_infra.filter(_.infra_class==\"power_line\")\n",
    "minor_lines = usa_power_infra.filter(_.infra_class==\"minor_line\")"
   ]
  },
  {
   "cell_type": "markdown",
   "id": "af5f286e-0629-44c1-94e8-89f64b6855f9",
   "metadata": {},
   "source": [
    "**Data Visualisation**"
   ]
  },
  {
   "cell_type": "code",
   "execution_count": 32,
   "id": "fa9844f6-605c-464a-ac11-46668333c0dd",
   "metadata": {},
   "outputs": [],
   "source": [
    "import lonboard\n",
    "from lonboard.basemap import CartoBasemap # to choose color of basemap"
   ]
  },
  {
   "cell_type": "code",
   "execution_count": 33,
   "id": "0c4556a8-4a42-4f7f-89ae-c5eea11dfc2e",
   "metadata": {},
   "outputs": [
    {
     "name": "stderr",
     "output_type": "stream",
     "text": [
      "D:\\anaconda3\\Lib\\site-packages\\lonboard\\_geoarrow\\ops\\reproject.py:33: UserWarning: No CRS exists on data. If no data is shown on the map, double check that your CRS is WGS84.\n",
      "  warn(\n"
     ]
    },
    {
     "data": {
      "application/vnd.jupyter.widget-view+json": {
       "model_id": "9f2993ceeae04778a57100fad3e43e34",
       "version_major": 2,
       "version_minor": 1
      },
      "text/plain": [
       "Map(basemap_style=<CartoBasemap.Positron: 'https://basemaps.cartocdn.com/gl/positron-gl-style/style.json'>, cu…"
      ]
     },
     "execution_count": 33,
     "metadata": {},
     "output_type": "execute_result"
    }
   ],
   "source": [
    "#plot power plants\n",
    "lonboard.viz(\n",
    "    plants,\n",
    "    scatterplot_kwargs={\"get_fill_color\": \"red\"}, #visualisation of scatter plots\n",
    "    polygon_kwargs={\"get_fill_color\": \"red\"}, #visualisation of polygons\n",
    "    map_kwargs={\n",
    "        \"basemap_style\": CartoBasemap.Positron, #basemap to be light and minimalistic\n",
    "        \"view_state\": {\"longitude\": -100, \"latitude\": 36, \"zoom\": 3}, #initial view settings\n",
    "    },\n",
    ")"
   ]
  },
  {
   "cell_type": "code",
   "execution_count": 34,
   "id": "0845f4fa-a9b5-4fcc-b79b-565c6b3c7dc4",
   "metadata": {},
   "outputs": [],
   "source": [
    "#to plot a smaller area (e.g. part of California), the following code can be inserted to the above code\n",
    "#plants_CA = plants.filter(\n",
    "#    _.bbox.xmin.between(-118.6, -117.9), _.bbox.ymin.between(34.5, 35.3)\n",
    "#).select(_.names.primary, _.geometry)"
   ]
  },
  {
   "cell_type": "code",
   "execution_count": 35,
   "id": "ee810da5-ccfa-4c76-90b3-ef3d1cf2cf00",
   "metadata": {},
   "outputs": [
    {
     "data": {
      "application/vnd.jupyter.widget-view+json": {
       "model_id": "905985d8f1a74fa5bcec58ab2b1c361d",
       "version_major": 2,
       "version_minor": 1
      },
      "text/plain": [
       "Map(basemap_style=<CartoBasemap.DarkMatter: 'https://basemaps.cartocdn.com/gl/dark-matter-gl-style/style.json'…"
      ]
     },
     "execution_count": 35,
     "metadata": {},
     "output_type": "execute_result"
    }
   ],
   "source": [
    "lonboard.viz([minor_lines, power_lines])"
   ]
  },
  {
   "cell_type": "code",
   "execution_count": 36,
   "id": "ed3ffe25-6a14-47ce-a600-2831aaf20356",
   "metadata": {},
   "outputs": [
    {
     "data": {
      "text/html": [
       "<pre style=\"white-space:pre;overflow-x:auto;line-height:normal;font-family:Menlo,'DejaVu Sans Mono',consolas,'Courier New',monospace\"></pre>\n"
      ],
      "text/plain": []
     },
     "metadata": {},
     "output_type": "display_data"
    },
    {
     "data": {
      "text/plain": [
       "┌─────────┐\n",
       "│ \u001b[1;36m5353606\u001b[0m │\n",
       "└─────────┘"
      ]
     },
     "execution_count": 36,
     "metadata": {},
     "output_type": "execute_result"
    }
   ],
   "source": [
    "#numer of power lines\n",
    "power_lines.geometry.n_points().sum()"
   ]
  },
  {
   "cell_type": "code",
   "execution_count": 37,
   "id": "4e49fa8a-f6aa-4d5e-b813-8849e6d7f568",
   "metadata": {},
   "outputs": [
    {
     "data": {
      "text/html": [
       "<pre style=\"white-space:pre;overflow-x:auto;line-height:normal;font-family:Menlo,'DejaVu Sans Mono',consolas,'Courier New',monospace\"></pre>\n"
      ],
      "text/plain": []
     },
     "metadata": {},
     "output_type": "display_data"
    },
    {
     "data": {
      "text/plain": [
       "┌─────────┐\n",
       "│ \u001b[1;36m1539579\u001b[0m │\n",
       "└─────────┘"
      ]
     },
     "execution_count": 37,
     "metadata": {},
     "output_type": "execute_result"
    }
   ],
   "source": [
    "#numer of minor lines\n",
    "minor_lines.geometry.n_points().sum()"
   ]
  },
  {
   "cell_type": "markdown",
   "id": "2686c50c-50a5-4bfc-8af0-a23b408b8f36",
   "metadata": {},
   "source": [
    "Application to New Study Area 1"
   ]
  },
  {
   "cell_type": "code",
   "execution_count": 39,
   "id": "b79bcb6c-5839-4aea-b453-e84f8c607afa",
   "metadata": {},
   "outputs": [],
   "source": [
    "#theme = base (others include addresses, buildings, divisions, places and transportation)\n",
    "#https://docs.overturemaps.org/guides/\n",
    "#type = infrastructure (others include land, land_cover, land_use and water)\n",
    "#https://docs.overturemaps.org/guides/base/\n",
    "#* is a wildcard used to include all files within the directory (type = infrastructure)\n",
    "url = (\n",
    "    \"s3://overturemaps-us-west-2/release/2024-11-13.0/theme=base/type=infrastructure/*\"\n",
    ")\n",
    "\n",
    "#con refers to connection to the DuckDB backend using Ibis\n",
    "#table-name is used to assign the name to the table created\n",
    "t = con.read_parquet(url, table_name=\"infra-japan\") \n",
    "\n",
    "#filter for Japan bounding box, subtype=\"power\", and selecting only few columns\n",
    "expr = t.filter(\n",
    "    _.bbox.xmin > 122.9346,  \n",
    "    _.bbox.ymin > 24.396308,  \n",
    "    _.bbox.xmax < 153.9866,  \n",
    "    _.bbox.ymax < 45.551483,\n",
    "    _.subtype == \"power\",\n",
    ").select([\"names\", \"geometry\", \"bbox\", \"class\", \"sources\", \"source_tags\"])"
   ]
  },
  {
   "cell_type": "code",
   "execution_count": 40,
   "id": "fb650358-4dcc-486c-973c-924eb0f75941",
   "metadata": {},
   "outputs": [
    {
     "data": {
      "application/vnd.jupyter.widget-view+json": {
       "model_id": "6618cc2452f8497397698398c57579f4",
       "version_major": 2,
       "version_minor": 0
      },
      "text/plain": [
       "FloatProgress(value=0.0, layout=Layout(width='auto'), style=ProgressStyle(bar_color='black'))"
      ]
     },
     "metadata": {},
     "output_type": "display_data"
    }
   ],
   "source": [
    "con.to_parquet(expr, \"power-infra-japan.geoparquet\")"
   ]
  },
  {
   "cell_type": "code",
   "execution_count": 41,
   "id": "85708a2c-832c-4636-bb6b-adbc9ee734af",
   "metadata": {},
   "outputs": [],
   "source": [
    "#turn interactive mode on\n",
    "ibis.options.interactive = True"
   ]
  },
  {
   "cell_type": "code",
   "execution_count": 42,
   "id": "aa6a6c35-e5f9-4357-a08d-714bfe3a00d4",
   "metadata": {},
   "outputs": [
    {
     "data": {
      "text/html": [
       "<pre style=\"white-space:pre;overflow-x:auto;line-height:normal;font-family:Menlo,'DejaVu Sans Mono',consolas,'Courier New',monospace\">┏━━━━━━━━━━━━━━━━━━━━━━━━━━━━━━━━━━━━━━━━━━━━━━━━━━━━━━━━━━━━━━━━━━━━━━━━━━━━━━━━━━┳━━━━━━━━━━━━━━━━━━━━━━━━━━━━━━━━━━━━━━━━━━━━━━━━━━━━━━━━━━━━━━━━━━━━━━━━━━━━━━━━━━┳━━━━━━━━━━━━━━━━━━━━━━━━━━━━━━━━━━━━━━━━━━━━━━━━━━━━━━━━━━━━━━━━━━━━┳━━━━━━━━━━━┳━━━━━━━━━━━━━━━━━━━━━━━━━━━━━━━━━━━━━━━━━━━━━━━━━━━━━━━━━━━━━━━━━━━━━━━━━━━━━━━━━━┳━━━━━━━━━━━━━━━━━━━━━━━━━━━━━━━━━━━━━━━━━━━━━━━━━━━━━━━━━━━━━━━━━━━━━━━━━━━━━━━━━━━━━┓\n",
       "┃<span style=\"font-weight: bold\"> names                                                                            </span>┃<span style=\"font-weight: bold\"> geometry                                                                         </span>┃<span style=\"font-weight: bold\"> bbox                                                               </span>┃<span style=\"font-weight: bold\"> class     </span>┃<span style=\"font-weight: bold\"> sources                                                                          </span>┃<span style=\"font-weight: bold\"> source_tags                                                                         </span>┃\n",
       "┡━━━━━━━━━━━━━━━━━━━━━━━━━━━━━━━━━━━━━━━━━━━━━━━━━━━━━━━━━━━━━━━━━━━━━━━━━━━━━━━━━━╇━━━━━━━━━━━━━━━━━━━━━━━━━━━━━━━━━━━━━━━━━━━━━━━━━━━━━━━━━━━━━━━━━━━━━━━━━━━━━━━━━━╇━━━━━━━━━━━━━━━━━━━━━━━━━━━━━━━━━━━━━━━━━━━━━━━━━━━━━━━━━━━━━━━━━━━━╇━━━━━━━━━━━╇━━━━━━━━━━━━━━━━━━━━━━━━━━━━━━━━━━━━━━━━━━━━━━━━━━━━━━━━━━━━━━━━━━━━━━━━━━━━━━━━━━╇━━━━━━━━━━━━━━━━━━━━━━━━━━━━━━━━━━━━━━━━━━━━━━━━━━━━━━━━━━━━━━━━━━━━━━━━━━━━━━━━━━━━━┩\n",
       "│ <span style=\"color: #7f7f7f; text-decoration-color: #7f7f7f\">struct&lt;primary: string, common: map&lt;string, string&gt;, rules: array&lt;struct&lt;varian…</span> │ <span style=\"color: #7f7f7f; text-decoration-color: #7f7f7f\">geospatial:geometry</span>                                                              │ <span style=\"color: #7f7f7f; text-decoration-color: #7f7f7f\">struct&lt;xmin: float32, xmax: float32, ymin: float32, ymax: float32&gt;</span> │ <span style=\"color: #7f7f7f; text-decoration-color: #7f7f7f\">string</span>    │ <span style=\"color: #7f7f7f; text-decoration-color: #7f7f7f\">array&lt;struct&lt;property: string, dataset: string, record_id: string, update_time:…</span> │ <span style=\"color: #7f7f7f; text-decoration-color: #7f7f7f\">map&lt;string, string&gt;</span>                                                                 │\n",
       "├──────────────────────────────────────────────────────────────────────────────────┼──────────────────────────────────────────────────────────────────────────────────┼────────────────────────────────────────────────────────────────────┼───────────┼──────────────────────────────────────────────────────────────────────────────────┼─────────────────────────────────────────────────────────────────────────────────────┤\n",
       "│ <span style=\"font-weight: bold\">{</span><span style=\"color: #008000; text-decoration-color: #008000\">'primary'</span>: <span style=\"color: #008000; text-decoration-color: #008000\">'与那国風車2号機'</span>, <span style=\"color: #008000; text-decoration-color: #008000\">'common'</span>: <span style=\"color: #800080; text-decoration-color: #800080; font-style: italic\">None</span>, <span style=\"color: #808000; text-decoration-color: #808000\">...</span> +<span style=\"color: #008080; text-decoration-color: #008080; font-weight: bold\">1</span><span style=\"font-weight: bold\">}</span>                           │ <span style=\"font-weight: bold\">&lt;</span><span style=\"color: #ff00ff; text-decoration-color: #ff00ff; font-weight: bold\">POINT</span><span style=\"color: #000000; text-decoration-color: #000000\"> </span><span style=\"color: #000000; text-decoration-color: #000000; font-weight: bold\">(</span><span style=\"color: #008080; text-decoration-color: #008080; font-weight: bold\">123.034</span><span style=\"color: #000000; text-decoration-color: #000000\"> </span><span style=\"color: #008080; text-decoration-color: #008080; font-weight: bold\">24.462</span><span style=\"color: #000000; text-decoration-color: #000000; font-weight: bold\">)</span><span style=\"font-weight: bold\">&gt;</span>                                                         │ <span style=\"font-weight: bold\">{</span><span style=\"color: #008000; text-decoration-color: #008000\">'xmin'</span>: <span style=\"color: #008080; text-decoration-color: #008080; font-weight: bold\">123.03370666503906</span>, <span style=\"color: #008000; text-decoration-color: #008000\">'xmax'</span>: <span style=\"color: #008080; text-decoration-color: #008080; font-weight: bold\">123.03372192382812</span>, <span style=\"color: #808000; text-decoration-color: #808000\">...</span> +<span style=\"color: #008080; text-decoration-color: #008080; font-weight: bold\">2</span><span style=\"font-weight: bold\">}</span>   │ <span style=\"color: #008000; text-decoration-color: #008000\">generator</span> │ <span style=\"font-weight: bold\">[{</span><span style=\"color: #808000; text-decoration-color: #808000\">...</span><span style=\"font-weight: bold\">}]</span>                                                                          │ <span style=\"font-weight: bold\">{</span><span style=\"color: #008000; text-decoration-color: #008000\">'generator:method'</span>: <span style=\"color: #008000; text-decoration-color: #008000\">'wind_turbine'</span>, <span style=\"color: #008000; text-decoration-color: #008000\">'generator:source'</span>: <span style=\"color: #008000; text-decoration-color: #008000\">'wind'</span>, <span style=\"color: #808000; text-decoration-color: #808000\">...</span> +<span style=\"color: #008080; text-decoration-color: #008080; font-weight: bold\">1</span><span style=\"font-weight: bold\">}</span>            │\n",
       "│ <span style=\"font-weight: bold\">{</span><span style=\"color: #008000; text-decoration-color: #008000\">'primary'</span>: <span style=\"color: #008000; text-decoration-color: #008000\">'与那国風車1号機'</span>, <span style=\"color: #008000; text-decoration-color: #008000\">'common'</span>: <span style=\"color: #800080; text-decoration-color: #800080; font-style: italic\">None</span>, <span style=\"color: #808000; text-decoration-color: #808000\">...</span> +<span style=\"color: #008080; text-decoration-color: #008080; font-weight: bold\">1</span><span style=\"font-weight: bold\">}</span>                           │ <span style=\"font-weight: bold\">&lt;</span><span style=\"color: #ff00ff; text-decoration-color: #ff00ff; font-weight: bold\">POINT</span><span style=\"color: #000000; text-decoration-color: #000000\"> </span><span style=\"color: #000000; text-decoration-color: #000000; font-weight: bold\">(</span><span style=\"color: #008080; text-decoration-color: #008080; font-weight: bold\">123.035</span><span style=\"color: #000000; text-decoration-color: #000000\"> </span><span style=\"color: #008080; text-decoration-color: #008080; font-weight: bold\">24.462</span><span style=\"color: #000000; text-decoration-color: #000000; font-weight: bold\">)</span><span style=\"font-weight: bold\">&gt;</span>                                                         │ <span style=\"font-weight: bold\">{</span><span style=\"color: #008000; text-decoration-color: #008000\">'xmin'</span>: <span style=\"color: #008080; text-decoration-color: #008080; font-weight: bold\">123.03509521484375</span>, <span style=\"color: #008000; text-decoration-color: #008000\">'xmax'</span>: <span style=\"color: #008080; text-decoration-color: #008080; font-weight: bold\">123.03511047363281</span>, <span style=\"color: #808000; text-decoration-color: #808000\">...</span> +<span style=\"color: #008080; text-decoration-color: #008080; font-weight: bold\">2</span><span style=\"font-weight: bold\">}</span>   │ <span style=\"color: #008000; text-decoration-color: #008000\">generator</span> │ <span style=\"font-weight: bold\">[{</span><span style=\"color: #808000; text-decoration-color: #808000\">...</span><span style=\"font-weight: bold\">}]</span>                                                                          │ <span style=\"font-weight: bold\">{</span><span style=\"color: #008000; text-decoration-color: #008000\">'generator:method'</span>: <span style=\"color: #008000; text-decoration-color: #008000\">'wind_turbine'</span>, <span style=\"color: #008000; text-decoration-color: #008000\">'generator:source'</span>: <span style=\"color: #008000; text-decoration-color: #008000\">'wind'</span>, <span style=\"color: #808000; text-decoration-color: #808000\">...</span> +<span style=\"color: #008080; text-decoration-color: #008080; font-weight: bold\">1</span><span style=\"font-weight: bold\">}</span>            │\n",
       "│ <span style=\"color: #7f7f7f; text-decoration-color: #7f7f7f\">NULL</span>                                                                             │ <span style=\"font-weight: bold\">&lt;</span><span style=\"color: #ff00ff; text-decoration-color: #ff00ff; font-weight: bold\">POLYGON</span><span style=\"color: #000000; text-decoration-color: #000000\"> </span><span style=\"color: #000000; text-decoration-color: #000000; font-weight: bold\">((</span><span style=\"color: #008080; text-decoration-color: #008080; font-weight: bold\">124.28</span><span style=\"color: #000000; text-decoration-color: #000000\"> </span><span style=\"color: #008080; text-decoration-color: #008080; font-weight: bold\">24.502</span><span style=\"color: #000000; text-decoration-color: #000000\">, </span><span style=\"color: #008080; text-decoration-color: #008080; font-weight: bold\">124.28</span><span style=\"color: #000000; text-decoration-color: #000000\"> </span><span style=\"color: #008080; text-decoration-color: #008080; font-weight: bold\">24.502</span><span style=\"color: #000000; text-decoration-color: #000000\">, </span><span style=\"color: #008080; text-decoration-color: #008080; font-weight: bold\">124.28</span><span style=\"color: #000000; text-decoration-color: #000000\"> </span><span style=\"color: #008080; text-decoration-color: #008080; font-weight: bold\">24.502</span><span style=\"color: #000000; text-decoration-color: #000000\">, </span><span style=\"color: #008080; text-decoration-color: #008080; font-weight: bold\">124.28</span><span style=\"color: #000000; text-decoration-color: #000000\"> </span><span style=\"color: #008080; text-decoration-color: #008080; font-weight: bold\">24.502</span><span style=\"color: #000000; text-decoration-color: #000000\">, </span><span style=\"color: #008080; text-decoration-color: #008080; font-weight: bold\">124.2</span><span style=\"color: #808000; text-decoration-color: #808000\">...</span><span style=\"font-weight: bold\">&gt;</span> │ <span style=\"font-weight: bold\">{</span><span style=\"color: #008000; text-decoration-color: #008000\">'xmin'</span>: <span style=\"color: #008080; text-decoration-color: #008080; font-weight: bold\">124.27980041503906</span>, <span style=\"color: #008000; text-decoration-color: #008000\">'xmax'</span>: <span style=\"color: #008080; text-decoration-color: #008080; font-weight: bold\">124.28009033203125</span>, <span style=\"color: #808000; text-decoration-color: #808000\">...</span> +<span style=\"color: #008080; text-decoration-color: #008080; font-weight: bold\">2</span><span style=\"font-weight: bold\">}</span>   │ <span style=\"color: #008000; text-decoration-color: #008000\">generator</span> │ <span style=\"font-weight: bold\">[{</span><span style=\"color: #808000; text-decoration-color: #808000\">...</span><span style=\"font-weight: bold\">}]</span>                                                                          │ <span style=\"font-weight: bold\">{</span><span style=\"color: #008000; text-decoration-color: #008000\">'generator:method'</span>: <span style=\"color: #008000; text-decoration-color: #008000\">'photovoltaic'</span>, <span style=\"color: #008000; text-decoration-color: #008000\">'generator:output:electricity'</span>: <span style=\"color: #008000; text-decoration-color: #008000\">'yes'</span>, <span style=\"color: #808000; text-decoration-color: #808000\">...</span> +<span style=\"color: #008080; text-decoration-color: #008080; font-weight: bold\">3</span><span style=\"font-weight: bold\">}</span> │\n",
       "│ <span style=\"color: #7f7f7f; text-decoration-color: #7f7f7f\">NULL</span>                                                                             │ <span style=\"font-weight: bold\">&lt;</span><span style=\"color: #ff00ff; text-decoration-color: #ff00ff; font-weight: bold\">POLYGON</span><span style=\"color: #000000; text-decoration-color: #000000\"> </span><span style=\"color: #000000; text-decoration-color: #000000; font-weight: bold\">((</span><span style=\"color: #008080; text-decoration-color: #008080; font-weight: bold\">124.296</span><span style=\"color: #000000; text-decoration-color: #000000\"> </span><span style=\"color: #008080; text-decoration-color: #008080; font-weight: bold\">24.566</span><span style=\"color: #000000; text-decoration-color: #000000\">, </span><span style=\"color: #008080; text-decoration-color: #008080; font-weight: bold\">124.295</span><span style=\"color: #000000; text-decoration-color: #000000\"> </span><span style=\"color: #008080; text-decoration-color: #008080; font-weight: bold\">24.566</span><span style=\"color: #000000; text-decoration-color: #000000\">, </span><span style=\"color: #008080; text-decoration-color: #008080; font-weight: bold\">124.296</span><span style=\"color: #000000; text-decoration-color: #000000\"> </span><span style=\"color: #008080; text-decoration-color: #008080; font-weight: bold\">24.566</span><span style=\"color: #000000; text-decoration-color: #000000\">, </span><span style=\"color: #008080; text-decoration-color: #008080; font-weight: bold\">124.296</span><span style=\"color: #000000; text-decoration-color: #000000\"> </span><span style=\"color: #008080; text-decoration-color: #008080; font-weight: bold\">24.566</span><span style=\"color: #000000; text-decoration-color: #000000\">, </span><span style=\"color: #008080; text-decoration-color: #008080; font-weight: bold\">1</span><span style=\"color: #808000; text-decoration-color: #808000\">...</span><span style=\"font-weight: bold\">&gt;</span> │ <span style=\"font-weight: bold\">{</span><span style=\"color: #008000; text-decoration-color: #008000\">'xmin'</span>: <span style=\"color: #008080; text-decoration-color: #008080; font-weight: bold\">124.29539489746094</span>, <span style=\"color: #008000; text-decoration-color: #008000\">'xmax'</span>: <span style=\"color: #008080; text-decoration-color: #008080; font-weight: bold\">124.29615020751953</span>, <span style=\"color: #808000; text-decoration-color: #808000\">...</span> +<span style=\"color: #008080; text-decoration-color: #008080; font-weight: bold\">2</span><span style=\"font-weight: bold\">}</span>   │ <span style=\"color: #008000; text-decoration-color: #008000\">generator</span> │ <span style=\"font-weight: bold\">[{</span><span style=\"color: #808000; text-decoration-color: #808000\">...</span><span style=\"font-weight: bold\">}]</span>                                                                          │ <span style=\"font-weight: bold\">{</span><span style=\"color: #008000; text-decoration-color: #008000\">'generator:method'</span>: <span style=\"color: #008000; text-decoration-color: #008000\">'photovoltaic'</span>, <span style=\"color: #008000; text-decoration-color: #008000\">'generator:source'</span>: <span style=\"color: #008000; text-decoration-color: #008000\">'solar'</span>, <span style=\"color: #808000; text-decoration-color: #808000\">...</span> +<span style=\"color: #008080; text-decoration-color: #008080; font-weight: bold\">1</span><span style=\"font-weight: bold\">}</span>           │\n",
       "│ <span style=\"color: #7f7f7f; text-decoration-color: #7f7f7f\">NULL</span>                                                                             │ <span style=\"font-weight: bold\">&lt;</span><span style=\"color: #ff00ff; text-decoration-color: #ff00ff; font-weight: bold\">POLYGON</span><span style=\"color: #000000; text-decoration-color: #000000\"> </span><span style=\"color: #000000; text-decoration-color: #000000; font-weight: bold\">((</span><span style=\"color: #008080; text-decoration-color: #008080; font-weight: bold\">124.297</span><span style=\"color: #000000; text-decoration-color: #000000\"> </span><span style=\"color: #008080; text-decoration-color: #008080; font-weight: bold\">24.567</span><span style=\"color: #000000; text-decoration-color: #000000\">, </span><span style=\"color: #008080; text-decoration-color: #008080; font-weight: bold\">124.297</span><span style=\"color: #000000; text-decoration-color: #000000\"> </span><span style=\"color: #008080; text-decoration-color: #008080; font-weight: bold\">24.567</span><span style=\"color: #000000; text-decoration-color: #000000\">, </span><span style=\"color: #008080; text-decoration-color: #008080; font-weight: bold\">124.297</span><span style=\"color: #000000; text-decoration-color: #000000\"> </span><span style=\"color: #008080; text-decoration-color: #008080; font-weight: bold\">24.567</span><span style=\"color: #000000; text-decoration-color: #000000\">, </span><span style=\"color: #008080; text-decoration-color: #008080; font-weight: bold\">124.297</span><span style=\"color: #000000; text-decoration-color: #000000\"> </span><span style=\"color: #008080; text-decoration-color: #008080; font-weight: bold\">24.567</span><span style=\"color: #000000; text-decoration-color: #000000\">, </span><span style=\"color: #008080; text-decoration-color: #008080; font-weight: bold\">1</span><span style=\"color: #808000; text-decoration-color: #808000\">...</span><span style=\"font-weight: bold\">&gt;</span> │ <span style=\"font-weight: bold\">{</span><span style=\"color: #008000; text-decoration-color: #008000\">'xmin'</span>: <span style=\"color: #008080; text-decoration-color: #008080; font-weight: bold\">124.29652404785156</span>, <span style=\"color: #008000; text-decoration-color: #008000\">'xmax'</span>: <span style=\"color: #008080; text-decoration-color: #008080; font-weight: bold\">124.29727935791016</span>, <span style=\"color: #808000; text-decoration-color: #808000\">...</span> +<span style=\"color: #008080; text-decoration-color: #008080; font-weight: bold\">2</span><span style=\"font-weight: bold\">}</span>   │ <span style=\"color: #008000; text-decoration-color: #008000\">generator</span> │ <span style=\"font-weight: bold\">[{</span><span style=\"color: #808000; text-decoration-color: #808000\">...</span><span style=\"font-weight: bold\">}]</span>                                                                          │ <span style=\"font-weight: bold\">{</span><span style=\"color: #008000; text-decoration-color: #008000\">'generator:method'</span>: <span style=\"color: #008000; text-decoration-color: #008000\">'photovoltaic'</span>, <span style=\"color: #008000; text-decoration-color: #008000\">'generator:source'</span>: <span style=\"color: #008000; text-decoration-color: #008000\">'solar'</span>, <span style=\"color: #808000; text-decoration-color: #808000\">...</span> +<span style=\"color: #008080; text-decoration-color: #008080; font-weight: bold\">1</span><span style=\"font-weight: bold\">}</span>           │\n",
       "│ <span style=\"color: #7f7f7f; text-decoration-color: #7f7f7f\">NULL</span>                                                                             │ <span style=\"font-weight: bold\">&lt;</span><span style=\"color: #ff00ff; text-decoration-color: #ff00ff; font-weight: bold\">POLYGON</span><span style=\"color: #000000; text-decoration-color: #000000\"> </span><span style=\"color: #000000; text-decoration-color: #000000; font-weight: bold\">((</span><span style=\"color: #008080; text-decoration-color: #008080; font-weight: bold\">124.301</span><span style=\"color: #000000; text-decoration-color: #000000\"> </span><span style=\"color: #008080; text-decoration-color: #008080; font-weight: bold\">24.572</span><span style=\"color: #000000; text-decoration-color: #000000\">, </span><span style=\"color: #008080; text-decoration-color: #008080; font-weight: bold\">124.301</span><span style=\"color: #000000; text-decoration-color: #000000\"> </span><span style=\"color: #008080; text-decoration-color: #008080; font-weight: bold\">24.572</span><span style=\"color: #000000; text-decoration-color: #000000\">, </span><span style=\"color: #008080; text-decoration-color: #008080; font-weight: bold\">124.301</span><span style=\"color: #000000; text-decoration-color: #000000\"> </span><span style=\"color: #008080; text-decoration-color: #008080; font-weight: bold\">24.572</span><span style=\"color: #000000; text-decoration-color: #000000\">, </span><span style=\"color: #008080; text-decoration-color: #008080; font-weight: bold\">124.301</span><span style=\"color: #000000; text-decoration-color: #000000\"> </span><span style=\"color: #008080; text-decoration-color: #008080; font-weight: bold\">24.572</span><span style=\"color: #000000; text-decoration-color: #000000\">, </span><span style=\"color: #008080; text-decoration-color: #008080; font-weight: bold\">1</span><span style=\"color: #808000; text-decoration-color: #808000\">...</span><span style=\"font-weight: bold\">&gt;</span> │ <span style=\"font-weight: bold\">{</span><span style=\"color: #008000; text-decoration-color: #008000\">'xmin'</span>: <span style=\"color: #008080; text-decoration-color: #008080; font-weight: bold\">124.30104064941406</span>, <span style=\"color: #008000; text-decoration-color: #008000\">'xmax'</span>: <span style=\"color: #008080; text-decoration-color: #008080; font-weight: bold\">124.30147552490234</span>, <span style=\"color: #808000; text-decoration-color: #808000\">...</span> +<span style=\"color: #008080; text-decoration-color: #008080; font-weight: bold\">2</span><span style=\"font-weight: bold\">}</span>   │ <span style=\"color: #008000; text-decoration-color: #008000\">generator</span> │ <span style=\"font-weight: bold\">[{</span><span style=\"color: #808000; text-decoration-color: #808000\">...</span><span style=\"font-weight: bold\">}]</span>                                                                          │ <span style=\"font-weight: bold\">{</span><span style=\"color: #008000; text-decoration-color: #008000\">'generator:method'</span>: <span style=\"color: #008000; text-decoration-color: #008000\">'photovoltaic'</span>, <span style=\"color: #008000; text-decoration-color: #008000\">'generator:source'</span>: <span style=\"color: #008000; text-decoration-color: #008000\">'solar'</span>, <span style=\"color: #808000; text-decoration-color: #808000\">...</span> +<span style=\"color: #008080; text-decoration-color: #008080; font-weight: bold\">1</span><span style=\"font-weight: bold\">}</span>           │\n",
       "│ <span style=\"color: #7f7f7f; text-decoration-color: #7f7f7f\">NULL</span>                                                                             │ <span style=\"font-weight: bold\">&lt;</span><span style=\"color: #ff00ff; text-decoration-color: #ff00ff; font-weight: bold\">POLYGON</span><span style=\"color: #000000; text-decoration-color: #000000\"> </span><span style=\"color: #000000; text-decoration-color: #000000; font-weight: bold\">((</span><span style=\"color: #008080; text-decoration-color: #008080; font-weight: bold\">124.301</span><span style=\"color: #000000; text-decoration-color: #000000\"> </span><span style=\"color: #008080; text-decoration-color: #008080; font-weight: bold\">24.572</span><span style=\"color: #000000; text-decoration-color: #000000\">, </span><span style=\"color: #008080; text-decoration-color: #008080; font-weight: bold\">124.301</span><span style=\"color: #000000; text-decoration-color: #000000\"> </span><span style=\"color: #008080; text-decoration-color: #008080; font-weight: bold\">24.572</span><span style=\"color: #000000; text-decoration-color: #000000\">, </span><span style=\"color: #008080; text-decoration-color: #008080; font-weight: bold\">124.301</span><span style=\"color: #000000; text-decoration-color: #000000\"> </span><span style=\"color: #008080; text-decoration-color: #008080; font-weight: bold\">24.572</span><span style=\"color: #000000; text-decoration-color: #000000\">, </span><span style=\"color: #008080; text-decoration-color: #008080; font-weight: bold\">124.301</span><span style=\"color: #000000; text-decoration-color: #000000\"> </span><span style=\"color: #008080; text-decoration-color: #008080; font-weight: bold\">24.572</span><span style=\"color: #000000; text-decoration-color: #000000\">, </span><span style=\"color: #008080; text-decoration-color: #008080; font-weight: bold\">1</span><span style=\"color: #808000; text-decoration-color: #808000\">...</span><span style=\"font-weight: bold\">&gt;</span> │ <span style=\"font-weight: bold\">{</span><span style=\"color: #008000; text-decoration-color: #008000\">'xmin'</span>: <span style=\"color: #008080; text-decoration-color: #008080; font-weight: bold\">124.30069732666016</span>, <span style=\"color: #008000; text-decoration-color: #008000\">'xmax'</span>: <span style=\"color: #008080; text-decoration-color: #008080; font-weight: bold\">124.30120849609375</span>, <span style=\"color: #808000; text-decoration-color: #808000\">...</span> +<span style=\"color: #008080; text-decoration-color: #008080; font-weight: bold\">2</span><span style=\"font-weight: bold\">}</span>   │ <span style=\"color: #008000; text-decoration-color: #008000\">generator</span> │ <span style=\"font-weight: bold\">[{</span><span style=\"color: #808000; text-decoration-color: #808000\">...</span><span style=\"font-weight: bold\">}]</span>                                                                          │ <span style=\"font-weight: bold\">{</span><span style=\"color: #008000; text-decoration-color: #008000\">'generator:method'</span>: <span style=\"color: #008000; text-decoration-color: #008000\">'photovoltaic'</span>, <span style=\"color: #008000; text-decoration-color: #008000\">'generator:source'</span>: <span style=\"color: #008000; text-decoration-color: #008000\">'solar'</span>, <span style=\"color: #808000; text-decoration-color: #808000\">...</span> +<span style=\"color: #008080; text-decoration-color: #008080; font-weight: bold\">1</span><span style=\"font-weight: bold\">}</span>           │\n",
       "│ <span style=\"color: #7f7f7f; text-decoration-color: #7f7f7f\">NULL</span>                                                                             │ <span style=\"font-weight: bold\">&lt;</span><span style=\"color: #ff00ff; text-decoration-color: #ff00ff; font-weight: bold\">POINT</span><span style=\"color: #000000; text-decoration-color: #000000\"> </span><span style=\"color: #000000; text-decoration-color: #000000; font-weight: bold\">(</span><span style=\"color: #008080; text-decoration-color: #008080; font-weight: bold\">124.719</span><span style=\"color: #000000; text-decoration-color: #000000\"> </span><span style=\"color: #008080; text-decoration-color: #008080; font-weight: bold\">24.669</span><span style=\"color: #000000; text-decoration-color: #000000; font-weight: bold\">)</span><span style=\"font-weight: bold\">&gt;</span>                                                         │ <span style=\"font-weight: bold\">{</span><span style=\"color: #008000; text-decoration-color: #008000\">'xmin'</span>: <span style=\"color: #008080; text-decoration-color: #008080; font-weight: bold\">124.71920013427734</span>, <span style=\"color: #008000; text-decoration-color: #008000\">'xmax'</span>: <span style=\"color: #008080; text-decoration-color: #008080; font-weight: bold\">124.7192153930664</span>, <span style=\"color: #808000; text-decoration-color: #808000\">...</span> +<span style=\"color: #008080; text-decoration-color: #008080; font-weight: bold\">2</span><span style=\"font-weight: bold\">}</span>    │ <span style=\"color: #008000; text-decoration-color: #008000\">generator</span> │ <span style=\"font-weight: bold\">[{</span><span style=\"color: #808000; text-decoration-color: #808000\">...</span><span style=\"font-weight: bold\">}]</span>                                                                          │ <span style=\"font-weight: bold\">{</span><span style=\"color: #008000; text-decoration-color: #008000\">'generator:method'</span>: <span style=\"color: #008000; text-decoration-color: #008000\">'wind_turbine'</span>, <span style=\"color: #008000; text-decoration-color: #008000\">'generator:source'</span>: <span style=\"color: #008000; text-decoration-color: #008000\">'wind'</span>, <span style=\"color: #808000; text-decoration-color: #808000\">...</span> +<span style=\"color: #008080; text-decoration-color: #008080; font-weight: bold\">1</span><span style=\"font-weight: bold\">}</span>            │\n",
       "│ <span style=\"color: #7f7f7f; text-decoration-color: #7f7f7f\">NULL</span>                                                                             │ <span style=\"font-weight: bold\">&lt;</span><span style=\"color: #ff00ff; text-decoration-color: #ff00ff; font-weight: bold\">POINT</span><span style=\"color: #000000; text-decoration-color: #000000\"> </span><span style=\"color: #000000; text-decoration-color: #000000; font-weight: bold\">(</span><span style=\"color: #008080; text-decoration-color: #008080; font-weight: bold\">124.719</span><span style=\"color: #000000; text-decoration-color: #000000\"> </span><span style=\"color: #008080; text-decoration-color: #008080; font-weight: bold\">24.67</span><span style=\"color: #000000; text-decoration-color: #000000; font-weight: bold\">)</span><span style=\"font-weight: bold\">&gt;</span>                                                          │ <span style=\"font-weight: bold\">{</span><span style=\"color: #008000; text-decoration-color: #008000\">'xmin'</span>: <span style=\"color: #008080; text-decoration-color: #008080; font-weight: bold\">124.71925354003906</span>, <span style=\"color: #008000; text-decoration-color: #008000\">'xmax'</span>: <span style=\"color: #008080; text-decoration-color: #008080; font-weight: bold\">124.71926879882812</span>, <span style=\"color: #808000; text-decoration-color: #808000\">...</span> +<span style=\"color: #008080; text-decoration-color: #008080; font-weight: bold\">2</span><span style=\"font-weight: bold\">}</span>   │ <span style=\"color: #008000; text-decoration-color: #008000\">generator</span> │ <span style=\"font-weight: bold\">[{</span><span style=\"color: #808000; text-decoration-color: #808000\">...</span><span style=\"font-weight: bold\">}]</span>                                                                          │ <span style=\"font-weight: bold\">{</span><span style=\"color: #008000; text-decoration-color: #008000\">'power'</span>: <span style=\"color: #008000; text-decoration-color: #008000\">'generator'</span><span style=\"font-weight: bold\">}</span>                                                              │\n",
       "│ <span style=\"color: #7f7f7f; text-decoration-color: #7f7f7f\">NULL</span>                                                                             │ <span style=\"font-weight: bold\">&lt;</span><span style=\"color: #ff00ff; text-decoration-color: #ff00ff; font-weight: bold\">POLYGON</span><span style=\"color: #000000; text-decoration-color: #000000\"> </span><span style=\"color: #000000; text-decoration-color: #000000; font-weight: bold\">((</span><span style=\"color: #008080; text-decoration-color: #008080; font-weight: bold\">125.284</span><span style=\"color: #000000; text-decoration-color: #000000\"> </span><span style=\"color: #008080; text-decoration-color: #008080; font-weight: bold\">24.749</span><span style=\"color: #000000; text-decoration-color: #000000\">, </span><span style=\"color: #008080; text-decoration-color: #008080; font-weight: bold\">125.284</span><span style=\"color: #000000; text-decoration-color: #000000\"> </span><span style=\"color: #008080; text-decoration-color: #008080; font-weight: bold\">24.749</span><span style=\"color: #000000; text-decoration-color: #000000\">, </span><span style=\"color: #008080; text-decoration-color: #008080; font-weight: bold\">125.284</span><span style=\"color: #000000; text-decoration-color: #000000\"> </span><span style=\"color: #008080; text-decoration-color: #008080; font-weight: bold\">24.749</span><span style=\"color: #000000; text-decoration-color: #000000\">, </span><span style=\"color: #008080; text-decoration-color: #008080; font-weight: bold\">125.284</span><span style=\"color: #000000; text-decoration-color: #000000\"> </span><span style=\"color: #008080; text-decoration-color: #008080; font-weight: bold\">24.749</span><span style=\"color: #000000; text-decoration-color: #000000\">, </span><span style=\"color: #008080; text-decoration-color: #008080; font-weight: bold\">1</span><span style=\"color: #808000; text-decoration-color: #808000\">...</span><span style=\"font-weight: bold\">&gt;</span> │ <span style=\"font-weight: bold\">{</span><span style=\"color: #008000; text-decoration-color: #008000\">'xmin'</span>: <span style=\"color: #008080; text-decoration-color: #008080; font-weight: bold\">125.2835922241211</span>, <span style=\"color: #008000; text-decoration-color: #008000\">'xmax'</span>: <span style=\"color: #008080; text-decoration-color: #008080; font-weight: bold\">125.28363037109375</span>, <span style=\"color: #808000; text-decoration-color: #808000\">...</span> +<span style=\"color: #008080; text-decoration-color: #008080; font-weight: bold\">2</span><span style=\"font-weight: bold\">}</span>    │ <span style=\"color: #008000; text-decoration-color: #008000\">generator</span> │ <span style=\"font-weight: bold\">[{</span><span style=\"color: #808000; text-decoration-color: #808000\">...</span><span style=\"font-weight: bold\">}]</span>                                                                          │ <span style=\"font-weight: bold\">{</span><span style=\"color: #008000; text-decoration-color: #008000\">'generator:source'</span>: <span style=\"color: #008000; text-decoration-color: #008000\">'solar'</span>, <span style=\"color: #008000; text-decoration-color: #008000\">'generator:type'</span>: <span style=\"color: #008000; text-decoration-color: #008000\">'solar_photovoltaic_panel'</span>, <span style=\"color: #808000; text-decoration-color: #808000\">...</span> +<span style=\"color: #008080; text-decoration-color: #008080; font-weight: bold\">2</span><span style=\"font-weight: bold\">}</span> │\n",
       "│ <span style=\"color: #7f7f7f; text-decoration-color: #7f7f7f\">…</span>                                                                                │ <span style=\"color: #7f7f7f; text-decoration-color: #7f7f7f\">…</span>                                                                                │ <span style=\"color: #7f7f7f; text-decoration-color: #7f7f7f\">…</span>                                                                  │ <span style=\"color: #7f7f7f; text-decoration-color: #7f7f7f\">…</span>         │ <span style=\"color: #7f7f7f; text-decoration-color: #7f7f7f\">…</span>                                                                                │ <span style=\"color: #7f7f7f; text-decoration-color: #7f7f7f\">…</span>                                                                                   │\n",
       "└──────────────────────────────────────────────────────────────────────────────────┴──────────────────────────────────────────────────────────────────────────────────┴────────────────────────────────────────────────────────────────────┴───────────┴──────────────────────────────────────────────────────────────────────────────────┴─────────────────────────────────────────────────────────────────────────────────────┘\n",
       "</pre>\n"
      ],
      "text/plain": [
       "┏━━━━━━━━━━━━━━━━━━━━━━━━━━━━━━━━━━━━━━━━━━━━━━━━━━━━━━━━━━━━━━━━━━━━━━━━━━━━━━━━━━┳━━━━━━━━━━━━━━━━━━━━━━━━━━━━━━━━━━━━━━━━━━━━━━━━━━━━━━━━━━━━━━━━━━━━━━━━━━━━━━━━━━┳━━━━━━━━━━━━━━━━━━━━━━━━━━━━━━━━━━━━━━━━━━━━━━━━━━━━━━━━━━━━━━━━━━━━┳━━━━━━━━━━━┳━━━━━━━━━━━━━━━━━━━━━━━━━━━━━━━━━━━━━━━━━━━━━━━━━━━━━━━━━━━━━━━━━━━━━━━━━━━━━━━━━━┳━━━━━━━━━━━━━━━━━━━━━━━━━━━━━━━━━━━━━━━━━━━━━━━━━━━━━━━━━━━━━━━━━━━━━━━━━━━━━━━━━━━━━┓\n",
       "┃\u001b[1m \u001b[0m\u001b[1mnames\u001b[0m\u001b[1m                                                                           \u001b[0m\u001b[1m \u001b[0m┃\u001b[1m \u001b[0m\u001b[1mgeometry\u001b[0m\u001b[1m                                                                        \u001b[0m\u001b[1m \u001b[0m┃\u001b[1m \u001b[0m\u001b[1mbbox\u001b[0m\u001b[1m                                                              \u001b[0m\u001b[1m \u001b[0m┃\u001b[1m \u001b[0m\u001b[1mclass\u001b[0m\u001b[1m    \u001b[0m\u001b[1m \u001b[0m┃\u001b[1m \u001b[0m\u001b[1msources\u001b[0m\u001b[1m                                                                         \u001b[0m\u001b[1m \u001b[0m┃\u001b[1m \u001b[0m\u001b[1msource_tags\u001b[0m\u001b[1m                                                                        \u001b[0m\u001b[1m \u001b[0m┃\n",
       "┡━━━━━━━━━━━━━━━━━━━━━━━━━━━━━━━━━━━━━━━━━━━━━━━━━━━━━━━━━━━━━━━━━━━━━━━━━━━━━━━━━━╇━━━━━━━━━━━━━━━━━━━━━━━━━━━━━━━━━━━━━━━━━━━━━━━━━━━━━━━━━━━━━━━━━━━━━━━━━━━━━━━━━━╇━━━━━━━━━━━━━━━━━━━━━━━━━━━━━━━━━━━━━━━━━━━━━━━━━━━━━━━━━━━━━━━━━━━━╇━━━━━━━━━━━╇━━━━━━━━━━━━━━━━━━━━━━━━━━━━━━━━━━━━━━━━━━━━━━━━━━━━━━━━━━━━━━━━━━━━━━━━━━━━━━━━━━╇━━━━━━━━━━━━━━━━━━━━━━━━━━━━━━━━━━━━━━━━━━━━━━━━━━━━━━━━━━━━━━━━━━━━━━━━━━━━━━━━━━━━━┩\n",
       "│ \u001b[2mstruct<primary: string, common: map<string, string>, rules: array<struct<varian…\u001b[0m │ \u001b[2mgeospatial:geometry\u001b[0m                                                              │ \u001b[2mstruct<xmin: float32, xmax: float32, ymin: float32, ymax: float32>\u001b[0m │ \u001b[2mstring\u001b[0m    │ \u001b[2marray<struct<property: string, dataset: string, record_id: string, update_time:…\u001b[0m │ \u001b[2mmap<string, string>\u001b[0m                                                                 │\n",
       "├──────────────────────────────────────────────────────────────────────────────────┼──────────────────────────────────────────────────────────────────────────────────┼────────────────────────────────────────────────────────────────────┼───────────┼──────────────────────────────────────────────────────────────────────────────────┼─────────────────────────────────────────────────────────────────────────────────────┤\n",
       "│ \u001b[1m{\u001b[0m\u001b[32m'primary'\u001b[0m: \u001b[32m'与那国風車2号機'\u001b[0m, \u001b[32m'common'\u001b[0m: \u001b[3;35mNone\u001b[0m, \u001b[33m...\u001b[0m +\u001b[1;36m1\u001b[0m\u001b[1m}\u001b[0m                           │ \u001b[1m<\u001b[0m\u001b[1;95mPOINT\u001b[0m\u001b[39m \u001b[0m\u001b[1;39m(\u001b[0m\u001b[1;36m123.034\u001b[0m\u001b[39m \u001b[0m\u001b[1;36m24.462\u001b[0m\u001b[1;39m)\u001b[0m\u001b[1m>\u001b[0m                                                         │ \u001b[1m{\u001b[0m\u001b[32m'xmin'\u001b[0m: \u001b[1;36m123.03370666503906\u001b[0m, \u001b[32m'xmax'\u001b[0m: \u001b[1;36m123.03372192382812\u001b[0m, \u001b[33m...\u001b[0m +\u001b[1;36m2\u001b[0m\u001b[1m}\u001b[0m   │ \u001b[32mgenerator\u001b[0m │ \u001b[1m[\u001b[0m\u001b[1m{\u001b[0m\u001b[33m...\u001b[0m\u001b[1m}\u001b[0m\u001b[1m]\u001b[0m                                                                          │ \u001b[1m{\u001b[0m\u001b[32m'generator:method'\u001b[0m: \u001b[32m'wind_turbine'\u001b[0m, \u001b[32m'generator:source'\u001b[0m: \u001b[32m'wind'\u001b[0m, \u001b[33m...\u001b[0m +\u001b[1;36m1\u001b[0m\u001b[1m}\u001b[0m            │\n",
       "│ \u001b[1m{\u001b[0m\u001b[32m'primary'\u001b[0m: \u001b[32m'与那国風車1号機'\u001b[0m, \u001b[32m'common'\u001b[0m: \u001b[3;35mNone\u001b[0m, \u001b[33m...\u001b[0m +\u001b[1;36m1\u001b[0m\u001b[1m}\u001b[0m                           │ \u001b[1m<\u001b[0m\u001b[1;95mPOINT\u001b[0m\u001b[39m \u001b[0m\u001b[1;39m(\u001b[0m\u001b[1;36m123.035\u001b[0m\u001b[39m \u001b[0m\u001b[1;36m24.462\u001b[0m\u001b[1;39m)\u001b[0m\u001b[1m>\u001b[0m                                                         │ \u001b[1m{\u001b[0m\u001b[32m'xmin'\u001b[0m: \u001b[1;36m123.03509521484375\u001b[0m, \u001b[32m'xmax'\u001b[0m: \u001b[1;36m123.03511047363281\u001b[0m, \u001b[33m...\u001b[0m +\u001b[1;36m2\u001b[0m\u001b[1m}\u001b[0m   │ \u001b[32mgenerator\u001b[0m │ \u001b[1m[\u001b[0m\u001b[1m{\u001b[0m\u001b[33m...\u001b[0m\u001b[1m}\u001b[0m\u001b[1m]\u001b[0m                                                                          │ \u001b[1m{\u001b[0m\u001b[32m'generator:method'\u001b[0m: \u001b[32m'wind_turbine'\u001b[0m, \u001b[32m'generator:source'\u001b[0m: \u001b[32m'wind'\u001b[0m, \u001b[33m...\u001b[0m +\u001b[1;36m1\u001b[0m\u001b[1m}\u001b[0m            │\n",
       "│ \u001b[2mNULL\u001b[0m                                                                             │ \u001b[1m<\u001b[0m\u001b[1;95mPOLYGON\u001b[0m\u001b[39m \u001b[0m\u001b[1;39m(\u001b[0m\u001b[1;39m(\u001b[0m\u001b[1;36m124.28\u001b[0m\u001b[39m \u001b[0m\u001b[1;36m24.502\u001b[0m\u001b[39m, \u001b[0m\u001b[1;36m124.28\u001b[0m\u001b[39m \u001b[0m\u001b[1;36m24.502\u001b[0m\u001b[39m, \u001b[0m\u001b[1;36m124.28\u001b[0m\u001b[39m \u001b[0m\u001b[1;36m24.502\u001b[0m\u001b[39m, \u001b[0m\u001b[1;36m124.28\u001b[0m\u001b[39m \u001b[0m\u001b[1;36m24.502\u001b[0m\u001b[39m, \u001b[0m\u001b[1;36m124.2\u001b[0m\u001b[33m...\u001b[0m\u001b[1m>\u001b[0m │ \u001b[1m{\u001b[0m\u001b[32m'xmin'\u001b[0m: \u001b[1;36m124.27980041503906\u001b[0m, \u001b[32m'xmax'\u001b[0m: \u001b[1;36m124.28009033203125\u001b[0m, \u001b[33m...\u001b[0m +\u001b[1;36m2\u001b[0m\u001b[1m}\u001b[0m   │ \u001b[32mgenerator\u001b[0m │ \u001b[1m[\u001b[0m\u001b[1m{\u001b[0m\u001b[33m...\u001b[0m\u001b[1m}\u001b[0m\u001b[1m]\u001b[0m                                                                          │ \u001b[1m{\u001b[0m\u001b[32m'generator:method'\u001b[0m: \u001b[32m'photovoltaic'\u001b[0m, \u001b[32m'generator:output:electricity'\u001b[0m: \u001b[32m'yes'\u001b[0m, \u001b[33m...\u001b[0m +\u001b[1;36m3\u001b[0m\u001b[1m}\u001b[0m │\n",
       "│ \u001b[2mNULL\u001b[0m                                                                             │ \u001b[1m<\u001b[0m\u001b[1;95mPOLYGON\u001b[0m\u001b[39m \u001b[0m\u001b[1;39m(\u001b[0m\u001b[1;39m(\u001b[0m\u001b[1;36m124.296\u001b[0m\u001b[39m \u001b[0m\u001b[1;36m24.566\u001b[0m\u001b[39m, \u001b[0m\u001b[1;36m124.295\u001b[0m\u001b[39m \u001b[0m\u001b[1;36m24.566\u001b[0m\u001b[39m, \u001b[0m\u001b[1;36m124.296\u001b[0m\u001b[39m \u001b[0m\u001b[1;36m24.566\u001b[0m\u001b[39m, \u001b[0m\u001b[1;36m124.296\u001b[0m\u001b[39m \u001b[0m\u001b[1;36m24.566\u001b[0m\u001b[39m, \u001b[0m\u001b[1;36m1\u001b[0m\u001b[33m...\u001b[0m\u001b[1m>\u001b[0m │ \u001b[1m{\u001b[0m\u001b[32m'xmin'\u001b[0m: \u001b[1;36m124.29539489746094\u001b[0m, \u001b[32m'xmax'\u001b[0m: \u001b[1;36m124.29615020751953\u001b[0m, \u001b[33m...\u001b[0m +\u001b[1;36m2\u001b[0m\u001b[1m}\u001b[0m   │ \u001b[32mgenerator\u001b[0m │ \u001b[1m[\u001b[0m\u001b[1m{\u001b[0m\u001b[33m...\u001b[0m\u001b[1m}\u001b[0m\u001b[1m]\u001b[0m                                                                          │ \u001b[1m{\u001b[0m\u001b[32m'generator:method'\u001b[0m: \u001b[32m'photovoltaic'\u001b[0m, \u001b[32m'generator:source'\u001b[0m: \u001b[32m'solar'\u001b[0m, \u001b[33m...\u001b[0m +\u001b[1;36m1\u001b[0m\u001b[1m}\u001b[0m           │\n",
       "│ \u001b[2mNULL\u001b[0m                                                                             │ \u001b[1m<\u001b[0m\u001b[1;95mPOLYGON\u001b[0m\u001b[39m \u001b[0m\u001b[1;39m(\u001b[0m\u001b[1;39m(\u001b[0m\u001b[1;36m124.297\u001b[0m\u001b[39m \u001b[0m\u001b[1;36m24.567\u001b[0m\u001b[39m, \u001b[0m\u001b[1;36m124.297\u001b[0m\u001b[39m \u001b[0m\u001b[1;36m24.567\u001b[0m\u001b[39m, \u001b[0m\u001b[1;36m124.297\u001b[0m\u001b[39m \u001b[0m\u001b[1;36m24.567\u001b[0m\u001b[39m, \u001b[0m\u001b[1;36m124.297\u001b[0m\u001b[39m \u001b[0m\u001b[1;36m24.567\u001b[0m\u001b[39m, \u001b[0m\u001b[1;36m1\u001b[0m\u001b[33m...\u001b[0m\u001b[1m>\u001b[0m │ \u001b[1m{\u001b[0m\u001b[32m'xmin'\u001b[0m: \u001b[1;36m124.29652404785156\u001b[0m, \u001b[32m'xmax'\u001b[0m: \u001b[1;36m124.29727935791016\u001b[0m, \u001b[33m...\u001b[0m +\u001b[1;36m2\u001b[0m\u001b[1m}\u001b[0m   │ \u001b[32mgenerator\u001b[0m │ \u001b[1m[\u001b[0m\u001b[1m{\u001b[0m\u001b[33m...\u001b[0m\u001b[1m}\u001b[0m\u001b[1m]\u001b[0m                                                                          │ \u001b[1m{\u001b[0m\u001b[32m'generator:method'\u001b[0m: \u001b[32m'photovoltaic'\u001b[0m, \u001b[32m'generator:source'\u001b[0m: \u001b[32m'solar'\u001b[0m, \u001b[33m...\u001b[0m +\u001b[1;36m1\u001b[0m\u001b[1m}\u001b[0m           │\n",
       "│ \u001b[2mNULL\u001b[0m                                                                             │ \u001b[1m<\u001b[0m\u001b[1;95mPOLYGON\u001b[0m\u001b[39m \u001b[0m\u001b[1;39m(\u001b[0m\u001b[1;39m(\u001b[0m\u001b[1;36m124.301\u001b[0m\u001b[39m \u001b[0m\u001b[1;36m24.572\u001b[0m\u001b[39m, \u001b[0m\u001b[1;36m124.301\u001b[0m\u001b[39m \u001b[0m\u001b[1;36m24.572\u001b[0m\u001b[39m, \u001b[0m\u001b[1;36m124.301\u001b[0m\u001b[39m \u001b[0m\u001b[1;36m24.572\u001b[0m\u001b[39m, \u001b[0m\u001b[1;36m124.301\u001b[0m\u001b[39m \u001b[0m\u001b[1;36m24.572\u001b[0m\u001b[39m, \u001b[0m\u001b[1;36m1\u001b[0m\u001b[33m...\u001b[0m\u001b[1m>\u001b[0m │ \u001b[1m{\u001b[0m\u001b[32m'xmin'\u001b[0m: \u001b[1;36m124.30104064941406\u001b[0m, \u001b[32m'xmax'\u001b[0m: \u001b[1;36m124.30147552490234\u001b[0m, \u001b[33m...\u001b[0m +\u001b[1;36m2\u001b[0m\u001b[1m}\u001b[0m   │ \u001b[32mgenerator\u001b[0m │ \u001b[1m[\u001b[0m\u001b[1m{\u001b[0m\u001b[33m...\u001b[0m\u001b[1m}\u001b[0m\u001b[1m]\u001b[0m                                                                          │ \u001b[1m{\u001b[0m\u001b[32m'generator:method'\u001b[0m: \u001b[32m'photovoltaic'\u001b[0m, \u001b[32m'generator:source'\u001b[0m: \u001b[32m'solar'\u001b[0m, \u001b[33m...\u001b[0m +\u001b[1;36m1\u001b[0m\u001b[1m}\u001b[0m           │\n",
       "│ \u001b[2mNULL\u001b[0m                                                                             │ \u001b[1m<\u001b[0m\u001b[1;95mPOLYGON\u001b[0m\u001b[39m \u001b[0m\u001b[1;39m(\u001b[0m\u001b[1;39m(\u001b[0m\u001b[1;36m124.301\u001b[0m\u001b[39m \u001b[0m\u001b[1;36m24.572\u001b[0m\u001b[39m, \u001b[0m\u001b[1;36m124.301\u001b[0m\u001b[39m \u001b[0m\u001b[1;36m24.572\u001b[0m\u001b[39m, \u001b[0m\u001b[1;36m124.301\u001b[0m\u001b[39m \u001b[0m\u001b[1;36m24.572\u001b[0m\u001b[39m, \u001b[0m\u001b[1;36m124.301\u001b[0m\u001b[39m \u001b[0m\u001b[1;36m24.572\u001b[0m\u001b[39m, \u001b[0m\u001b[1;36m1\u001b[0m\u001b[33m...\u001b[0m\u001b[1m>\u001b[0m │ \u001b[1m{\u001b[0m\u001b[32m'xmin'\u001b[0m: \u001b[1;36m124.30069732666016\u001b[0m, \u001b[32m'xmax'\u001b[0m: \u001b[1;36m124.30120849609375\u001b[0m, \u001b[33m...\u001b[0m +\u001b[1;36m2\u001b[0m\u001b[1m}\u001b[0m   │ \u001b[32mgenerator\u001b[0m │ \u001b[1m[\u001b[0m\u001b[1m{\u001b[0m\u001b[33m...\u001b[0m\u001b[1m}\u001b[0m\u001b[1m]\u001b[0m                                                                          │ \u001b[1m{\u001b[0m\u001b[32m'generator:method'\u001b[0m: \u001b[32m'photovoltaic'\u001b[0m, \u001b[32m'generator:source'\u001b[0m: \u001b[32m'solar'\u001b[0m, \u001b[33m...\u001b[0m +\u001b[1;36m1\u001b[0m\u001b[1m}\u001b[0m           │\n",
       "│ \u001b[2mNULL\u001b[0m                                                                             │ \u001b[1m<\u001b[0m\u001b[1;95mPOINT\u001b[0m\u001b[39m \u001b[0m\u001b[1;39m(\u001b[0m\u001b[1;36m124.719\u001b[0m\u001b[39m \u001b[0m\u001b[1;36m24.669\u001b[0m\u001b[1;39m)\u001b[0m\u001b[1m>\u001b[0m                                                         │ \u001b[1m{\u001b[0m\u001b[32m'xmin'\u001b[0m: \u001b[1;36m124.71920013427734\u001b[0m, \u001b[32m'xmax'\u001b[0m: \u001b[1;36m124.7192153930664\u001b[0m, \u001b[33m...\u001b[0m +\u001b[1;36m2\u001b[0m\u001b[1m}\u001b[0m    │ \u001b[32mgenerator\u001b[0m │ \u001b[1m[\u001b[0m\u001b[1m{\u001b[0m\u001b[33m...\u001b[0m\u001b[1m}\u001b[0m\u001b[1m]\u001b[0m                                                                          │ \u001b[1m{\u001b[0m\u001b[32m'generator:method'\u001b[0m: \u001b[32m'wind_turbine'\u001b[0m, \u001b[32m'generator:source'\u001b[0m: \u001b[32m'wind'\u001b[0m, \u001b[33m...\u001b[0m +\u001b[1;36m1\u001b[0m\u001b[1m}\u001b[0m            │\n",
       "│ \u001b[2mNULL\u001b[0m                                                                             │ \u001b[1m<\u001b[0m\u001b[1;95mPOINT\u001b[0m\u001b[39m \u001b[0m\u001b[1;39m(\u001b[0m\u001b[1;36m124.719\u001b[0m\u001b[39m \u001b[0m\u001b[1;36m24.67\u001b[0m\u001b[1;39m)\u001b[0m\u001b[1m>\u001b[0m                                                          │ \u001b[1m{\u001b[0m\u001b[32m'xmin'\u001b[0m: \u001b[1;36m124.71925354003906\u001b[0m, \u001b[32m'xmax'\u001b[0m: \u001b[1;36m124.71926879882812\u001b[0m, \u001b[33m...\u001b[0m +\u001b[1;36m2\u001b[0m\u001b[1m}\u001b[0m   │ \u001b[32mgenerator\u001b[0m │ \u001b[1m[\u001b[0m\u001b[1m{\u001b[0m\u001b[33m...\u001b[0m\u001b[1m}\u001b[0m\u001b[1m]\u001b[0m                                                                          │ \u001b[1m{\u001b[0m\u001b[32m'power'\u001b[0m: \u001b[32m'generator'\u001b[0m\u001b[1m}\u001b[0m                                                              │\n",
       "│ \u001b[2mNULL\u001b[0m                                                                             │ \u001b[1m<\u001b[0m\u001b[1;95mPOLYGON\u001b[0m\u001b[39m \u001b[0m\u001b[1;39m(\u001b[0m\u001b[1;39m(\u001b[0m\u001b[1;36m125.284\u001b[0m\u001b[39m \u001b[0m\u001b[1;36m24.749\u001b[0m\u001b[39m, \u001b[0m\u001b[1;36m125.284\u001b[0m\u001b[39m \u001b[0m\u001b[1;36m24.749\u001b[0m\u001b[39m, \u001b[0m\u001b[1;36m125.284\u001b[0m\u001b[39m \u001b[0m\u001b[1;36m24.749\u001b[0m\u001b[39m, \u001b[0m\u001b[1;36m125.284\u001b[0m\u001b[39m \u001b[0m\u001b[1;36m24.749\u001b[0m\u001b[39m, \u001b[0m\u001b[1;36m1\u001b[0m\u001b[33m...\u001b[0m\u001b[1m>\u001b[0m │ \u001b[1m{\u001b[0m\u001b[32m'xmin'\u001b[0m: \u001b[1;36m125.2835922241211\u001b[0m, \u001b[32m'xmax'\u001b[0m: \u001b[1;36m125.28363037109375\u001b[0m, \u001b[33m...\u001b[0m +\u001b[1;36m2\u001b[0m\u001b[1m}\u001b[0m    │ \u001b[32mgenerator\u001b[0m │ \u001b[1m[\u001b[0m\u001b[1m{\u001b[0m\u001b[33m...\u001b[0m\u001b[1m}\u001b[0m\u001b[1m]\u001b[0m                                                                          │ \u001b[1m{\u001b[0m\u001b[32m'generator:source'\u001b[0m: \u001b[32m'solar'\u001b[0m, \u001b[32m'generator:type'\u001b[0m: \u001b[32m'solar_photovoltaic_panel'\u001b[0m, \u001b[33m...\u001b[0m +\u001b[1;36m2\u001b[0m\u001b[1m}\u001b[0m │\n",
       "│ \u001b[2m…\u001b[0m                                                                                │ \u001b[2m…\u001b[0m                                                                                │ \u001b[2m…\u001b[0m                                                                  │ \u001b[2m…\u001b[0m         │ \u001b[2m…\u001b[0m                                                                                │ \u001b[2m…\u001b[0m                                                                                   │\n",
       "└──────────────────────────────────────────────────────────────────────────────────┴──────────────────────────────────────────────────────────────────────────────────┴────────────────────────────────────────────────────────────────────┴───────────┴──────────────────────────────────────────────────────────────────────────────────┴─────────────────────────────────────────────────────────────────────────────────────┘"
      ]
     },
     "execution_count": 42,
     "metadata": {},
     "output_type": "execute_result"
    }
   ],
   "source": [
    "#read file and show fields\n",
    "japan_power_infra = con.read_parquet(\"power-infra-japan.geoparquet\")\n",
    "japan_power_infra"
   ]
  },
  {
   "cell_type": "code",
   "execution_count": 43,
   "id": "ce5084aa-1ada-4d5a-9230-6d68e5b40c86",
   "metadata": {},
   "outputs": [],
   "source": [
    "#rename class column to prevent possible conflicts\n",
    "japan_power_infra = japan_power_infra.rename(infra_class=\"class\")"
   ]
  },
  {
   "cell_type": "code",
   "execution_count": 44,
   "id": "b62eae97-3e15-4adf-a0df-f4136ce5dfcc",
   "metadata": {},
   "outputs": [
    {
     "data": {
      "text/html": [
       "<pre style=\"white-space:pre;overflow-x:auto;line-height:normal;font-family:Menlo,'DejaVu Sans Mono',consolas,'Courier New',monospace\">┏━━━━━━━━━━━━━━━┳━━━━━━━━━━━━━━━━━━━┓\n",
       "┃<span style=\"font-weight: bold\"> infra_class   </span>┃<span style=\"font-weight: bold\"> infra_class_count </span>┃\n",
       "┡━━━━━━━━━━━━━━━╇━━━━━━━━━━━━━━━━━━━┩\n",
       "│ <span style=\"color: #7f7f7f; text-decoration-color: #7f7f7f\">string</span>        │ <span style=\"color: #7f7f7f; text-decoration-color: #7f7f7f\">int64</span>             │\n",
       "├───────────────┼───────────────────┤\n",
       "│ <span style=\"color: #008000; text-decoration-color: #008000\">power_tower  </span> │            <span style=\"color: #008080; text-decoration-color: #008080; font-weight: bold\">402163</span> │\n",
       "│ <span style=\"color: #008000; text-decoration-color: #008000\">generator    </span> │            <span style=\"color: #008080; text-decoration-color: #008080; font-weight: bold\">118925</span> │\n",
       "│ <span style=\"color: #008000; text-decoration-color: #008000\">power_line   </span> │             <span style=\"color: #008080; text-decoration-color: #008080; font-weight: bold\">37571</span> │\n",
       "│ <span style=\"color: #008000; text-decoration-color: #008000\">power_pole   </span> │             <span style=\"color: #008080; text-decoration-color: #008080; font-weight: bold\">27486</span> │\n",
       "│ <span style=\"color: #008000; text-decoration-color: #008000\">plant        </span> │             <span style=\"color: #008080; text-decoration-color: #008080; font-weight: bold\">15289</span> │\n",
       "│ <span style=\"color: #008000; text-decoration-color: #008000\">substation   </span> │              <span style=\"color: #008080; text-decoration-color: #008080; font-weight: bold\">9949</span> │\n",
       "│ <span style=\"color: #008000; text-decoration-color: #008000\">portal       </span> │              <span style=\"color: #008080; text-decoration-color: #008080; font-weight: bold\">7900</span> │\n",
       "│ <span style=\"color: #008000; text-decoration-color: #008000\">transformer  </span> │              <span style=\"color: #008080; text-decoration-color: #008080; font-weight: bold\">2336</span> │\n",
       "│ <span style=\"color: #008000; text-decoration-color: #008000\">minor_line   </span> │              <span style=\"color: #008080; text-decoration-color: #008080; font-weight: bold\">1566</span> │\n",
       "│ <span style=\"color: #008000; text-decoration-color: #008000\">cable        </span> │              <span style=\"color: #008080; text-decoration-color: #008080; font-weight: bold\">1159</span> │\n",
       "│ <span style=\"color: #008000; text-decoration-color: #008000\">switch       </span> │              <span style=\"color: #008080; text-decoration-color: #008080; font-weight: bold\">1036</span> │\n",
       "│ <span style=\"color: #008000; text-decoration-color: #008000\">catenary_mast</span> │               <span style=\"color: #008080; text-decoration-color: #008080; font-weight: bold\">725</span> │\n",
       "│ <span style=\"color: #008000; text-decoration-color: #008000\">terminal     </span> │               <span style=\"color: #008080; text-decoration-color: #008080; font-weight: bold\">233</span> │\n",
       "│ <span style=\"color: #008000; text-decoration-color: #008000\">insulator    </span> │                <span style=\"color: #008080; text-decoration-color: #008080; font-weight: bold\">49</span> │\n",
       "│ <span style=\"color: #008000; text-decoration-color: #008000\">connection   </span> │                <span style=\"color: #008080; text-decoration-color: #008080; font-weight: bold\">13</span> │\n",
       "│ <span style=\"color: #7f7f7f; text-decoration-color: #7f7f7f\">…</span>             │                 <span style=\"color: #7f7f7f; text-decoration-color: #7f7f7f\">…</span> │\n",
       "└───────────────┴───────────────────┘\n",
       "</pre>\n"
      ],
      "text/plain": [
       "┏━━━━━━━━━━━━━━━┳━━━━━━━━━━━━━━━━━━━┓\n",
       "┃\u001b[1m \u001b[0m\u001b[1minfra_class\u001b[0m\u001b[1m  \u001b[0m\u001b[1m \u001b[0m┃\u001b[1m \u001b[0m\u001b[1minfra_class_count\u001b[0m\u001b[1m \u001b[0m┃\n",
       "┡━━━━━━━━━━━━━━━╇━━━━━━━━━━━━━━━━━━━┩\n",
       "│ \u001b[2mstring\u001b[0m        │ \u001b[2mint64\u001b[0m             │\n",
       "├───────────────┼───────────────────┤\n",
       "│ \u001b[32mpower_tower  \u001b[0m │            \u001b[1;36m402163\u001b[0m │\n",
       "│ \u001b[32mgenerator    \u001b[0m │            \u001b[1;36m118925\u001b[0m │\n",
       "│ \u001b[32mpower_line   \u001b[0m │             \u001b[1;36m37571\u001b[0m │\n",
       "│ \u001b[32mpower_pole   \u001b[0m │             \u001b[1;36m27486\u001b[0m │\n",
       "│ \u001b[32mplant        \u001b[0m │             \u001b[1;36m15289\u001b[0m │\n",
       "│ \u001b[32msubstation   \u001b[0m │              \u001b[1;36m9949\u001b[0m │\n",
       "│ \u001b[32mportal       \u001b[0m │              \u001b[1;36m7900\u001b[0m │\n",
       "│ \u001b[32mtransformer  \u001b[0m │              \u001b[1;36m2336\u001b[0m │\n",
       "│ \u001b[32mminor_line   \u001b[0m │              \u001b[1;36m1566\u001b[0m │\n",
       "│ \u001b[32mcable        \u001b[0m │              \u001b[1;36m1159\u001b[0m │\n",
       "│ \u001b[32mswitch       \u001b[0m │              \u001b[1;36m1036\u001b[0m │\n",
       "│ \u001b[32mcatenary_mast\u001b[0m │               \u001b[1;36m725\u001b[0m │\n",
       "│ \u001b[32mterminal     \u001b[0m │               \u001b[1;36m233\u001b[0m │\n",
       "│ \u001b[32minsulator    \u001b[0m │                \u001b[1;36m49\u001b[0m │\n",
       "│ \u001b[32mconnection   \u001b[0m │                \u001b[1;36m13\u001b[0m │\n",
       "│ \u001b[2m…\u001b[0m             │                 \u001b[2m…\u001b[0m │\n",
       "└───────────────┴───────────────────┘\n"
      ]
     },
     "execution_count": 44,
     "metadata": {},
     "output_type": "execute_result"
    }
   ],
   "source": [
    "#preview the different infrastructure classes\n",
    "japan_power_infra.infra_class.value_counts().order_by(\n",
    "    ibis.desc(\"infra_class_count\")\n",
    ").preview(max_rows=15)"
   ]
  },
  {
   "cell_type": "code",
   "execution_count": 45,
   "id": "6ea2a2a7-5bea-44e4-aa95-8178246ec84a",
   "metadata": {},
   "outputs": [],
   "source": [
    "#filter out the classes of interest (e.g. plant, power_line and minor_line)\n",
    "plants = japan_power_infra.filter(_.infra_class==\"plant\")\n",
    "power_lines = japan_power_infra.filter(_.infra_class==\"power_line\")\n",
    "minor_lines = japan_power_infra.filter(_.infra_class==\"minor_line\")"
   ]
  },
  {
   "cell_type": "code",
   "execution_count": 46,
   "id": "47aaf178-6702-4f0b-9173-ff834c3ea7da",
   "metadata": {},
   "outputs": [
    {
     "data": {
      "application/vnd.jupyter.widget-view+json": {
       "model_id": "e6b5c93f557c46589ba3d826e62bcca0",
       "version_major": 2,
       "version_minor": 1
      },
      "text/plain": [
       "Map(basemap_style=<CartoBasemap.Positron: 'https://basemaps.cartocdn.com/gl/positron-gl-style/style.json'>, cu…"
      ]
     },
     "execution_count": 46,
     "metadata": {},
     "output_type": "execute_result"
    }
   ],
   "source": [
    "#plot power plants\n",
    "lonboard.viz(\n",
    "    plants,\n",
    "    scatterplot_kwargs={\"get_fill_color\": \"red\"}, #visualisation of scatter plots\n",
    "    polygon_kwargs={\"get_fill_color\": \"red\"}, #visualisation of polygons\n",
    "    map_kwargs={\n",
    "        \"basemap_style\": CartoBasemap.Positron, #basemap to be light and minimalistic\n",
    "        \"view_state\": {\"longitude\": 137.0, \"latitude\": 37.5, \"zoom\": 5}, #initial view settings\n",
    "    },\n",
    ")"
   ]
  },
  {
   "cell_type": "code",
   "execution_count": 47,
   "id": "41cbd7f1-a7e0-4a64-8bdd-be154456f3dc",
   "metadata": {},
   "outputs": [
    {
     "data": {
      "application/vnd.jupyter.widget-view+json": {
       "model_id": "e6bb5ef9dd2d4820a185f92749f02da4",
       "version_major": 2,
       "version_minor": 1
      },
      "text/plain": [
       "Map(basemap_style=<CartoBasemap.DarkMatter: 'https://basemaps.cartocdn.com/gl/dark-matter-gl-style/style.json'…"
      ]
     },
     "execution_count": 47,
     "metadata": {},
     "output_type": "execute_result"
    }
   ],
   "source": [
    "lonboard.viz([minor_lines, power_lines])"
   ]
  },
  {
   "cell_type": "code",
   "execution_count": 48,
   "id": "310c9c18-3563-46fc-88af-8c0305d820d4",
   "metadata": {},
   "outputs": [
    {
     "data": {
      "text/html": [
       "<pre style=\"white-space:pre;overflow-x:auto;line-height:normal;font-family:Menlo,'DejaVu Sans Mono',consolas,'Courier New',monospace\"></pre>\n"
      ],
      "text/plain": []
     },
     "metadata": {},
     "output_type": "display_data"
    },
    {
     "data": {
      "text/plain": [
       "┌────────┐\n",
       "│ \u001b[1;36m484895\u001b[0m │\n",
       "└────────┘"
      ]
     },
     "execution_count": 48,
     "metadata": {},
     "output_type": "execute_result"
    }
   ],
   "source": [
    "#numer of power lines\n",
    "power_lines.geometry.n_points().sum()"
   ]
  },
  {
   "cell_type": "code",
   "execution_count": 49,
   "id": "9d7ac5d7-58ec-4c6b-a939-18d8f28dae33",
   "metadata": {},
   "outputs": [
    {
     "data": {
      "text/html": [
       "<pre style=\"white-space:pre;overflow-x:auto;line-height:normal;font-family:Menlo,'DejaVu Sans Mono',consolas,'Courier New',monospace\"></pre>\n"
      ],
      "text/plain": []
     },
     "metadata": {},
     "output_type": "display_data"
    },
    {
     "data": {
      "text/plain": [
       "┌───────┐\n",
       "│ \u001b[1;36m12930\u001b[0m │\n",
       "└───────┘"
      ]
     },
     "execution_count": 49,
     "metadata": {},
     "output_type": "execute_result"
    }
   ],
   "source": [
    "#numer of minor lines\n",
    "minor_lines.geometry.n_points().sum()"
   ]
  },
  {
   "cell_type": "markdown",
   "id": "0be9a933-ea03-4337-86a7-27255727270e",
   "metadata": {},
   "source": [
    "Application to New Study Area 2"
   ]
  },
  {
   "cell_type": "markdown",
   "id": "59b52140-8a30-42be-9353-7fd173562f57",
   "metadata": {},
   "source": [
    "**Tutorial Source 2:** https://developmentseed.org/lonboard/latest/examples/overture-maps/"
   ]
  },
  {
   "cell_type": "code",
   "execution_count": 52,
   "id": "dde7f9df-c376-4a38-8185-4e6c387d0ee6",
   "metadata": {},
   "outputs": [],
   "source": [
    "import numpy as np\n",
    "import overturemaps\n",
    "from matplotlib.colors import LogNorm\n",
    "from palettable.colorbrewer.sequential import *\n",
    "#use * so wildcard and can import all\n",
    "\n",
    "from lonboard import Map, PolygonLayer\n",
    "from lonboard.colormap import apply_continuous_cmap"
   ]
  },
  {
   "cell_type": "code",
   "execution_count": 53,
   "id": "e39f541c-08f7-4c4d-ac12-2e734935eefd",
   "metadata": {},
   "outputs": [],
   "source": [
    "#obtain bbox for Manhattan\n",
    "#https://boundingbox.klokantech.com/ to find bounding box of other areas\n",
    "bbox = -74.02169, 40.696423, -73.891338, 40.831263"
   ]
  },
  {
   "cell_type": "code",
   "execution_count": 54,
   "id": "b90213fd-45df-416e-a769-e2b6ad71fbc8",
   "metadata": {},
   "outputs": [],
   "source": [
    "#fetches relevant data from the cloud\n",
    "table = overturemaps.record_batch_reader(\"building\", bbox).read_all()"
   ]
  },
  {
   "cell_type": "code",
   "execution_count": 55,
   "id": "65a3a86f-480f-4595-bf5f-2152304ee1ae",
   "metadata": {},
   "outputs": [],
   "source": [
    "#convert the \"height\" column to numpy array and replace any null values with 1\n",
    "heights = table[\"height\"].to_numpy()\n",
    "heights = np.nan_to_num(heights, nan=1)"
   ]
  },
  {
   "cell_type": "code",
   "execution_count": 56,
   "id": "600682c0-8e6d-4d1c-8b3e-9f97eb69c874",
   "metadata": {},
   "outputs": [],
   "source": [
    "#LogNorm to ensure very tall buildings do not overshadow shorter builddings\n",
    "normalizer = LogNorm(1, heights.max(), clip = True) #clip=True to fit within min and max value to prevent extreme values\n",
    "normalized_heights = normalizer(heights) #apply the normalizer to the height array"
   ]
  },
  {
   "cell_type": "code",
   "execution_count": 57,
   "id": "afbcb251-c050-4760-ae10-322f1d058e8f",
   "metadata": {},
   "outputs": [
    {
     "data": {
      "image/png": "[encoded data removed]",
      "text/html": [
       "<div style=\"vertical-align: middle;\"><strong>Oranges</strong> </div><div class=\"cmap\"><img alt=\"Oranges colormap\" title=\"Oranges\" style=\"border: 1px solid #555;\" src=\"data:image/png;base64,iVBORw0KGgoAAAANSUhEUgAAAgAAAABACAYAAABsv8+/AAAAFnRFWHRUaXRsZQBPcmFuZ2VzIGNvbG9ybWFwAJwLXwAAABx0RVh0RGVzY3JpcHRpb24AT3JhbmdlcyBjb2xvcm1hcKeyuiYAAAAwdEVYdEF1dGhvcgBNYXRwbG90bGliIHYzLjguNCwgaHR0cHM6Ly9tYXRwbG90bGliLm9yZ2TOsrQAAAAydEVYdFNvZnR3YXJlAE1hdHBsb3RsaWIgdjMuOC40LCBodHRwczovL21hdHBsb3RsaWIub3JnSmgtkwAAAddJREFUeJzt1sFO4zAUQFF3/v9PWc82ZgEUkdZNGKhmcc/ZVHbSF6dSpXuZf1/mGGPMOceb989fW49z9z9r7sF6+d5z2+1vi3kn92/m/e/n7L+/mHP6+mJ/e9LcHz/3aP/g933Wennu55xrLuZe97eP/8n9c8zF/Ll7n9vnHMzdFvPOnn/73jk//1b39z+/Px5f3/bX/3HOYv/2nPefdzz//bhfl2P3s328zvq+3fr0fdfXuJy87/F6de7j97h8We9+nuW8716/Pu+35vzw+hxv7/1nAAA5AgAAggQAAAQJAAAIEgAAECQAACBIAABAkAAAgCABAABBAgAAggQAAAQJAAAIEgAAECQAACBIAABAkAAAgCABAABBAgAAggQAAAQJAAAIEgAAECQAACBIAABAkAAAgCABAABBAgAAggQAAAQJAAAIEgAAECQAACBIAABAkAAAgCABAABBAgAAggQAAAQJAAAIEgAAECQAACBIAABAkAAAgCABAABBAgAAggQAAAQJAAAIEgAAECQAACBIAABAkAAAgCABAABBAgAAggQAAAQJAAAIEgAAECQAACBIAABAkAAAgCABAABBAgAAggQAAAQJAAAIEgAAECQAACBIAABA0Cu5rt04cCG7bAAAAABJRU5ErkJggg==\"></div><div style=\"vertical-align: middle; max-width: 514px; display: flex; justify-content: space-between;\"><div style=\"float: left;\"><div title=\"#fff5ebff\" style=\"display: inline-block; width: 1em; height: 1em; margin: 0; vertical-align: middle; border: 1px solid #555; background-color: #fff5ebff;\"></div> under</div><div style=\"margin: 0 auto; display: inline-block;\">bad <div title=\"#00000000\" style=\"display: inline-block; width: 1em; height: 1em; margin: 0; vertical-align: middle; border: 1px solid #555; background-color: #00000000;\"></div></div><div style=\"float: right;\">over <div title=\"#7f2704ff\" style=\"display: inline-block; width: 1em; height: 1em; margin: 0; vertical-align: middle; border: 1px solid #555; background-color: #7f2704ff;\"></div></div>"
      ],
      "text/plain": [
       "<matplotlib.colors.LinearSegmentedColormap at 0x2230a1fe150>"
      ]
     },
     "execution_count": 57,
     "metadata": {},
     "output_type": "execute_result"
    }
   ],
   "source": [
    "#show the colour map\n",
    "Oranges_9.mpl_colormap"
   ]
  },
  {
   "cell_type": "code",
   "execution_count": 58,
   "id": "30df160c-0ecf-4b23-a265-d80748e748c7",
   "metadata": {},
   "outputs": [],
   "source": [
    "#apply height values onto the colourmap using apply_continuous_cmap\n",
    "colors = apply_continuous_cmap(normalized_heights, Oranges_9)"
   ]
  },
  {
   "cell_type": "code",
   "execution_count": 59,
   "id": "521feb0e-320a-4156-93eb-e087458f13f2",
   "metadata": {},
   "outputs": [
    {
     "name": "stderr",
     "output_type": "stream",
     "text": [
      "D:\\anaconda3\\Lib\\site-packages\\lonboard\\_geoarrow\\ops\\reproject.py:33: UserWarning: No CRS exists on data. If no data is shown on the map, double check that your CRS is WGS84.\n",
      "  warn(\n"
     ]
    }
   ],
   "source": [
    "#create PolygonLayer, passing in the heights and colours from before\n",
    "layer = PolygonLayer(\n",
    "    #select only a few attribute columns from the table\n",
    "    table=table.select([\"id\", \"height\", \"geometry\", \"names\"]),\n",
    "    extruded=True,\n",
    "    get_elevation=heights,\n",
    "    get_fill_color=colors,\n",
    ")"
   ]
  },
  {
   "cell_type": "code",
   "execution_count": 60,
   "id": "68acfd5d-2e11-4da1-93bc-9e13588bdfd1",
   "metadata": {},
   "outputs": [
    {
     "data": {
      "application/vnd.jupyter.widget-view+json": {
       "model_id": "3b9cfcfedb704faf92a48c9679c34d49",
       "version_major": 2,
       "version_minor": 1
      },
      "text/plain": [
       "Map(custom_attribution='', layers=(PolygonLayer(extruded=True, get_elevation=arro3.core.ChunkedArray<Float32>\n",
       "…"
      ]
     },
     "execution_count": 60,
     "metadata": {},
     "output_type": "execute_result"
    }
   ],
   "source": [
    "#view the map\n",
    "view_state = {\n",
    "    \"longitude\": -73.98416810282863,\n",
    "    \"latitude\": 40.72651721370669,\n",
    "    \"zoom\": 12.726630492730596,\n",
    "    \"pitch\": 59.80465353190481,\n",
    "    \"bearing\": 13.243243243243244,\n",
    "}\n",
    "m = Map(layer, view_state=view_state)\n",
    "m"
   ]
  },
  {
   "cell_type": "markdown",
   "id": "5160dee1-b3f4-43df-9abb-331570852dd7",
   "metadata": {},
   "source": [
    "Application to New Study Area"
   ]
  },
  {
   "cell_type": "code",
   "execution_count": 62,
   "id": "1c827b7c-9777-4405-938f-b07187d0e907",
   "metadata": {},
   "outputs": [],
   "source": [
    "#obtain bbox for London\n",
    "#https://boundingbox.klokantech.com/ to find bounding box of other areas\n",
    "bbox = -0.510375, 51.286760, 0.334015, 51.691874"
   ]
  },
  {
   "cell_type": "code",
   "execution_count": 63,
   "id": "9ffb0ac2-217c-45e5-a37e-76fd47b406e6",
   "metadata": {},
   "outputs": [],
   "source": [
    "#fetches relevant data from the cloud\n",
    "table = overturemaps.record_batch_reader(\"building\", bbox).read_all()"
   ]
  },
  {
   "cell_type": "code",
   "execution_count": 64,
   "id": "897c00cb-2e7b-4be2-b17e-9c0c5999d77e",
   "metadata": {},
   "outputs": [],
   "source": [
    "#convert the \"height\" column to numpy array and replace any null values with 1\n",
    "heights = table[\"height\"].to_numpy()\n",
    "heights = np.nan_to_num(heights, nan=1)"
   ]
  },
  {
   "cell_type": "code",
   "execution_count": 65,
   "id": "0ff52c5f-4a21-4e3d-a503-5f0cf8679ec5",
   "metadata": {},
   "outputs": [],
   "source": [
    "#LogNorm to ensure very tall buildings do not overshadow shorter builddings\n",
    "normalizer = LogNorm(1, heights.max(), clip = True) #clip=True to fit within min and max value to prevent extreme values\n",
    "normalized_heights = normalizer(heights) #apply the normalizer to the height array"
   ]
  },
  {
   "cell_type": "code",
   "execution_count": 66,
   "id": "cf39143b-5f05-4599-84af-b58f730d214d",
   "metadata": {},
   "outputs": [
    {
     "data": {
      "image/png": "[encoded data removed]",
      "text/html": [
       "<div style=\"vertical-align: middle;\"><strong>YlGnBu</strong> </div><div class=\"cmap\"><img alt=\"YlGnBu colormap\" title=\"YlGnBu\" style=\"border: 1px solid #555;\" src=\"data:image/png;base64,iVBORw0KGgoAAAANSUhEUgAAAgAAAABACAYAAABsv8+/AAAAFXRFWHRUaXRsZQBZbEduQnUgY29sb3JtYXACe+UUAAAAG3RFWHREZXNjcmlwdGlvbgBZbEduQnUgY29sb3JtYXBL7P3wAAAAMHRFWHRBdXRob3IATWF0cGxvdGxpYiB2My44LjQsIGh0dHBzOi8vbWF0cGxvdGxpYi5vcmdkzrK0AAAAMnRFWHRTb2Z0d2FyZQBNYXRwbG90bGliIHYzLjguNCwgaHR0cHM6Ly9tYXRwbG90bGliLm9yZ0poLZMAAAIUSURBVHic7dZBdpswFIbRR/e/wS7GKIOAeyz5Gdqcjv57B6FISMI5SfptY/weVVVj7FVVNWpUHf/6/roft+Pj/HN8ee7z/HP/Gs1z9+bX9zqf+zw/nvvU63W83u/j8/x5/3zbsf1sv/+1b7Pfue4x7fPn+v3cYxlv5pt9HtN57Xy7/vW8dXw+/957d+f189Pn6Oan8fn7fXfd7fOaz9+tG911v/nc+fuzv5+/Pmf83brlnIv1zXud12XB3owf91v3DZx/8aYfpO3mc8s5y/u9X7/sf/E5zvn2vdY/FLfGl/de/jD92/j2w/dax8/74/+H+Vrd+Hg7XlfrLtZ36/p9x83zmn2P9/hVAEAcAQAAgQQAAAQSAAAQSAAAQCABAACBBAAABBIAABBIAABAIAEAAIEEAAAEEgAAEEgAAEAgAQAAgQQAAAQSAAAQSAAAQCABAACBBAAABBIAABBIAABAIAEAAIEEAAAEEgAAEEgAAEAgAQAAgQQAAAQSAAAQSAAAQCABAACBBAAABBIAABBIAABAIAEAAIEEAAAEEgAAEEgAAEAgAQAAgQQAAAQSAAAQSAAAQCABAACBBAAABBIAABBIAABAIAEAAIEEAAAEEgAAEEgAAEAgAQAAgQQAAAQSAAAQSAAAQCABAACBBAAABBIAABBIAABAIAEAAIEEAAAEEgAAEEgAAEAgAQAAgQQAAAT6AgsO3wu5ArnfAAAAAElFTkSuQmCC\"></div><div style=\"vertical-align: middle; max-width: 514px; display: flex; justify-content: space-between;\"><div style=\"float: left;\"><div title=\"#ffffd9ff\" style=\"display: inline-block; width: 1em; height: 1em; margin: 0; vertical-align: middle; border: 1px solid #555; background-color: #ffffd9ff;\"></div> under</div><div style=\"margin: 0 auto; display: inline-block;\">bad <div title=\"#00000000\" style=\"display: inline-block; width: 1em; height: 1em; margin: 0; vertical-align: middle; border: 1px solid #555; background-color: #00000000;\"></div></div><div style=\"float: right;\">over <div title=\"#081d58ff\" style=\"display: inline-block; width: 1em; height: 1em; margin: 0; vertical-align: middle; border: 1px solid #555; background-color: #081d58ff;\"></div></div>"
      ],
      "text/plain": [
       "<matplotlib.colors.LinearSegmentedColormap at 0x223157ad610>"
      ]
     },
     "execution_count": 66,
     "metadata": {},
     "output_type": "execute_result"
    }
   ],
   "source": [
    "#show the colour map\n",
    "#other colours available from https://jiffyclub.github.io/palettable/colorbrewer/sequential/\n",
    "YlGnBu_9.mpl_colormap"
   ]
  },
  {
   "cell_type": "code",
   "execution_count": 67,
   "id": "029da6c8-710f-48c6-88ee-3e2c12c562b0",
   "metadata": {},
   "outputs": [],
   "source": [
    "#apply height values onto the colourmap using apply_continuous_cmap\n",
    "colors = apply_continuous_cmap(normalized_heights, YlGnBu_9)"
   ]
  },
  {
   "cell_type": "code",
   "execution_count": 68,
   "id": "dbc5120e-ed8f-465d-9e15-7c7223ca1897",
   "metadata": {},
   "outputs": [],
   "source": [
    "#create PolygonLayer, passing in the heights and colours from before\n",
    "layer = PolygonLayer(\n",
    "    #select only a few attribute columns from the table\n",
    "    table=table.select([\"id\", \"height\", \"geometry\", \"names\"]),\n",
    "    extruded=True,\n",
    "    get_elevation=heights,\n",
    "    get_fill_color=colors,\n",
    ")"
   ]
  },
  {
   "cell_type": "code",
   "execution_count": 113,
   "id": "3fe2f7ac-771d-4f92-a938-10a9add1623a",
   "metadata": {},
   "outputs": [
    {
     "data": {
      "application/vnd.jupyter.widget-view+json": {
       "model_id": "d7ac2ec8e98c4d32be43a31e86ca2ec2",
       "version_major": 2,
       "version_minor": 1
      },
      "text/plain": [
       "Map(custom_attribution='', layers=(PolygonLayer(extruded=True, get_elevation=arro3.core.ChunkedArray<Float32>\n",
       "…"
      ]
     },
     "execution_count": 113,
     "metadata": {},
     "output_type": "execute_result"
    }
   ],
   "source": [
    "#view the map\n",
    "view_state = {\n",
    "    \"longitude\": -0.1278,  #longitude of London’s center\n",
    "    \"latitude\": 51.5074,   #latitude of London’s center\n",
    "    \"zoom\": 11.5,           #zoom level\n",
    "    \"pitch\": 59.8,          #pitch\n",
    "    \"bearing\": 13.24,       #bearing\n",
    "}\n",
    "\n",
    "m = Map(layer, view_state=view_state)\n",
    "m"
   ]
  }
 ],
 "metadata": {
  "kernelspec": {
   "display_name": "Python 3 (ipykernel)",
   "language": "python",
   "name": "python3"
  },
  "language_info": {
   "codemirror_mode": {
    "name": "ipython",
    "version": 3
   },
   "file_extension": ".py",
   "mimetype": "text/x-python",
   "name": "python",
   "nbconvert_exporter": "python",
   "pygments_lexer": "ipython3",
   "version": "3.12.3"
  }
 },
 "nbformat": 4,
 "nbformat_minor": 5
}
