{
 "cells": [
  {
   "cell_type": "code",
   "execution_count": 3,
   "id": "89de232b-0a97-4171-b2a8-6f2b8c10d4f3",
   "metadata": {},
   "outputs": [
    {
     "name": "stderr",
     "output_type": "stream",
     "text": [
      "D:\\anaconda3\\Lib\\site-packages\\rasterio\\__init__.py:378: NotGeoreferencedWarning: Dataset has no geotransform, gcps, or rpcs. The identity matrix will be returned.\n",
      "  dataset = writer(\n"
     ]
    }
   ],
   "source": [
    "import rasterio\n",
    "from rasterio.enums import Resampling\n",
    "\n",
    "with rasterio.open('VIIRS_Composite_North_America.tif') as src:\n",
    "    data = src.read(\n",
    "        out_shape=(src.count, int(src.height), int(src.width)),\n",
    "        resampling=Resampling.bilinear\n",
    "    )\n",
    "    transform = src.transform\n",
    "\n",
    "with rasterio.open('output_file.png', 'w', driver='PNG', height=data.shape[1], width=data.shape[2], count=src.count, dtype=data.dtype) as dst:\n",
    "    dst.write(data)"
   ]
  }
 ],
 "metadata": {
  "kernelspec": {
   "display_name": "Python 3 (ipykernel)",
   "language": "python",
   "name": "python3"
  },
  "language_info": {
   "codemirror_mode": {
    "name": "ipython",
    "version": 3
   },
   "file_extension": ".py",
   "mimetype": "text/x-python",
   "name": "python",
   "nbconvert_exporter": "python",
   "pygments_lexer": "ipython3",
   "version": "3.12.3"
  }
 },
 "nbformat": 4,
 "nbformat_minor": 5
}
